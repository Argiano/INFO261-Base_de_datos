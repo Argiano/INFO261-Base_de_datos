{
 "cells": [
  {
   "cell_type": "markdown",
   "metadata": {},
   "source": [
    "# Objetivos del Notebook\n",
    "\n",
    "En el trabajo práctico anterior, hemos conversado de algunos principios para diseñar una API web, definiendo puntos para acceder a recursos. Hemos implementando una API web básica en Python con el framework Flask. Este notebook 5 tiene como objetivos:\n",
    "\n",
    "- utilizar APIs web existentes\n",
    "\n",
    "- manipular datos al formato JSON utilizando librerias Python para la Ciencia de Datos: Pandas, MatplotLib\n",
    "\n",
    "- utilizar el SGBD no relacional Mongo describiendo primeras características que lo diferencia de MySQL"
   ]
  },
  {
   "cell_type": "markdown",
   "metadata": {},
   "source": [
    "# 1. Utilizar la API OpenAQ\n",
    "\n",
    "<a href=\"https://openaq.org\">OpenAQ</a> es una iniciativa colaborativa ciudadana y científica que apunta a proveer datos abiertos y herramientas para monitorear y proteger la calidad del aire. Esta comunidad recopiló ~300 millones de medidas del aire en 67 paises.\n",
    "\n",
    "En particular, OpenAQ toma la forma de:\n",
    "\n",
    "- una API Web, desarrollada en Javascript (framework Node.js), la cual interactua con el SGBD relacional PostgreSQL. Todo el código está abierto bajo la licencia <i>MIT License</i>: <a href=\"https://github.com/openaq/openaq-api\">OpenAQ-API</a>\n",
    "\n",
    "- Una aplicación web, desarrollada en Javascript tambien que permite navegar visualmente en los datos: <a href=\"https://dolugen.github.io/openaq-browser/#/cities\">OpenAQ-browser</a>\n",
    "\n",
    "La documentación de la API se encuentra aqui: <a href=\"https://docs.openaq.org/\">documentación</a>\n",
    "\n"
   ]
  },
  {
   "cell_type": "markdown",
   "metadata": {},
   "source": [
    "<b>Pregunta</b>:\n",
    "\n",
    "- ¿En algunas palabras cuáles son las características de la licencia MIT License? ¿Cuál es la diferencia principal con la licencia GPL?\n",
    "- ¿Cuántos puntos de acceso tiene OpenAQ-API?\n",
    "- ¿Cuántas tablas tiene la Base de Datos utilizada por OpenAQ?"
   ]
  },
  {
   "cell_type": "markdown",
   "metadata": {},
   "source": [
    "Ejemplo de consulta a OpenAQ-API para responder a la pregunta siguiente:\n",
    "<b>¿Cuál es el nivel de contaminación en la ciudad de Valdivia el 29 de octubre 2018?</b>"
   ]
  },
  {
   "cell_type": "code",
   "execution_count": 2,
   "metadata": {},
   "outputs": [
    {
     "name": "stdout",
     "output_type": "stream",
     "text": [
      "{'meta': {'name': 'openaq-api', 'license': 'CC BY 4.0', 'website': 'https://docs.openaq.org/', 'page': 1, 'limit': 1000, 'found': 159}, 'results': [{'location': 'Valdivia', 'parameter': 'pm25', 'date': {'utc': '2018-10-30T00:00:00.000Z', 'local': '2018-10-29T21:00:00-03:00'}, 'value': 21, 'unit': 'µg/m³', 'coordinates': {'latitude': -39.831316104673, 'longitude': -73.22851282209}, 'country': 'CL', 'city': 'Valdivia'}, {'location': 'Valdivia', 'parameter': 'co', 'date': {'utc': '2018-10-30T00:00:00.000Z', 'local': '2018-10-29T21:00:00-03:00'}, 'value': 565.81, 'unit': 'µg/m³', 'coordinates': {'latitude': -39.831316104673, 'longitude': -73.22851282209}, 'country': 'CL', 'city': 'Valdivia'}, {'location': 'Valdivia', 'parameter': 'so2', 'date': {'utc': '2018-10-30T00:00:00.000Z', 'local': '2018-10-29T21:00:00-03:00'}, 'value': 2.71, 'unit': 'µg/m³', 'coordinates': {'latitude': -39.831316104673, 'longitude': -73.22851282209}, 'country': 'CL', 'city': 'Valdivia'}, {'location': 'Valdivia', 'parameter': 'pm10', 'date': {'utc': '2018-10-30T00:00:00.000Z', 'local': '2018-10-29T21:00:00-03:00'}, 'value': 43, 'unit': 'µg/m³', 'coordinates': {'latitude': -39.831316104673, 'longitude': -73.22851282209}, 'country': 'CL', 'city': 'Valdivia'}, {'location': 'Valdivia', 'parameter': 'pm25', 'date': {'utc': '2018-10-29T23:00:00.000Z', 'local': '2018-10-29T20:00:00-03:00'}, 'value': 15, 'unit': 'µg/m³', 'coordinates': {'latitude': -39.831316104673, 'longitude': -73.22851282209}, 'country': 'CL', 'city': 'Valdivia'}, {'location': 'Valdivia', 'parameter': 'pm10', 'date': {'utc': '2018-10-29T23:00:00.000Z', 'local': '2018-10-29T20:00:00-03:00'}, 'value': 25, 'unit': 'µg/m³', 'coordinates': {'latitude': -39.831316104673, 'longitude': -73.22851282209}, 'country': 'CL', 'city': 'Valdivia'}, {'location': 'Valdivia', 'parameter': 'so2', 'date': {'utc': '2018-10-29T23:00:00.000Z', 'local': '2018-10-29T20:00:00-03:00'}, 'value': 2.59, 'unit': 'µg/m³', 'coordinates': {'latitude': -39.831316104673, 'longitude': -73.22851282209}, 'country': 'CL', 'city': 'Valdivia'}, {'location': 'Valdivia', 'parameter': 'co', 'date': {'utc': '2018-10-29T23:00:00.000Z', 'local': '2018-10-29T20:00:00-03:00'}, 'value': 305.49, 'unit': 'µg/m³', 'coordinates': {'latitude': -39.831316104673, 'longitude': -73.22851282209}, 'country': 'CL', 'city': 'Valdivia'}, {'location': 'Valdivia', 'parameter': 'pm10', 'date': {'utc': '2018-10-29T22:00:00.000Z', 'local': '2018-10-29T19:00:00-03:00'}, 'value': 21, 'unit': 'µg/m³', 'coordinates': {'latitude': -39.831316104673, 'longitude': -73.22851282209}, 'country': 'CL', 'city': 'Valdivia'}, {'location': 'Valdivia', 'parameter': 'so2', 'date': {'utc': '2018-10-29T22:00:00.000Z', 'local': '2018-10-29T19:00:00-03:00'}, 'value': 2.47, 'unit': 'µg/m³', 'coordinates': {'latitude': -39.831316104673, 'longitude': -73.22851282209}, 'country': 'CL', 'city': 'Valdivia'}, {'location': 'Valdivia', 'parameter': 'co', 'date': {'utc': '2018-10-29T22:00:00.000Z', 'local': '2018-10-29T19:00:00-03:00'}, 'value': 178.29, 'unit': 'µg/m³', 'coordinates': {'latitude': -39.831316104673, 'longitude': -73.22851282209}, 'country': 'CL', 'city': 'Valdivia'}, {'location': 'Valdivia', 'parameter': 'pm25', 'date': {'utc': '2018-10-29T22:00:00.000Z', 'local': '2018-10-29T19:00:00-03:00'}, 'value': 9, 'unit': 'µg/m³', 'coordinates': {'latitude': -39.831316104673, 'longitude': -73.22851282209}, 'country': 'CL', 'city': 'Valdivia'}, {'location': 'Valdivia', 'parameter': 'pm25', 'date': {'utc': '2018-10-29T21:00:00.000Z', 'local': '2018-10-29T18:00:00-03:00'}, 'value': 10, 'unit': 'µg/m³', 'coordinates': {'latitude': -39.831316104673, 'longitude': -73.22851282209}, 'country': 'CL', 'city': 'Valdivia'}, {'location': 'Valdivia', 'parameter': 'so2', 'date': {'utc': '2018-10-29T21:00:00.000Z', 'local': '2018-10-29T18:00:00-03:00'}, 'value': 2.52, 'unit': 'µg/m³', 'coordinates': {'latitude': -39.831316104673, 'longitude': -73.22851282209}, 'country': 'CL', 'city': 'Valdivia'}, {'location': 'Valdivia', 'parameter': 'co', 'date': {'utc': '2018-10-29T21:00:00.000Z', 'local': '2018-10-29T18:00:00-03:00'}, 'value': 131.31, 'unit': 'µg/m³', 'coordinates': {'latitude': -39.831316104673, 'longitude': -73.22851282209}, 'country': 'CL', 'city': 'Valdivia'}, {'location': 'Valdivia', 'parameter': 'pm10', 'date': {'utc': '2018-10-29T21:00:00.000Z', 'local': '2018-10-29T18:00:00-03:00'}, 'value': 14, 'unit': 'µg/m³', 'coordinates': {'latitude': -39.831316104673, 'longitude': -73.22851282209}, 'country': 'CL', 'city': 'Valdivia'}, {'location': 'Valdivia', 'parameter': 'pm25', 'date': {'utc': '2018-10-29T20:00:00.000Z', 'local': '2018-10-29T17:00:00-03:00'}, 'value': 7, 'unit': 'µg/m³', 'coordinates': {'latitude': -39.831316104673, 'longitude': -73.22851282209}, 'country': 'CL', 'city': 'Valdivia'}, {'location': 'Valdivia', 'parameter': 'pm10', 'date': {'utc': '2018-10-29T20:00:00.000Z', 'local': '2018-10-29T17:00:00-03:00'}, 'value': 19, 'unit': 'µg/m³', 'coordinates': {'latitude': -39.831316104673, 'longitude': -73.22851282209}, 'country': 'CL', 'city': 'Valdivia'}, {'location': 'Valdivia', 'parameter': 'so2', 'date': {'utc': '2018-10-29T20:00:00.000Z', 'local': '2018-10-29T17:00:00-03:00'}, 'value': 2.41, 'unit': 'µg/m³', 'coordinates': {'latitude': -39.831316104673, 'longitude': -73.22851282209}, 'country': 'CL', 'city': 'Valdivia'}, {'location': 'Valdivia', 'parameter': 'co', 'date': {'utc': '2018-10-29T20:00:00.000Z', 'local': '2018-10-29T17:00:00-03:00'}, 'value': 100.46, 'unit': 'µg/m³', 'coordinates': {'latitude': -39.831316104673, 'longitude': -73.22851282209}, 'country': 'CL', 'city': 'Valdivia'}, {'location': 'Valdivia', 'parameter': 'so2', 'date': {'utc': '2018-10-29T19:00:00.000Z', 'local': '2018-10-29T16:00:00-03:00'}, 'value': 2.47, 'unit': 'µg/m³', 'coordinates': {'latitude': -39.831316104673, 'longitude': -73.22851282209}, 'country': 'CL', 'city': 'Valdivia'}, {'location': 'Valdivia', 'parameter': 'co', 'date': {'utc': '2018-10-29T19:00:00.000Z', 'local': '2018-10-29T16:00:00-03:00'}, 'value': 116.89, 'unit': 'µg/m³', 'coordinates': {'latitude': -39.831316104673, 'longitude': -73.22851282209}, 'country': 'CL', 'city': 'Valdivia'}, {'location': 'Valdivia', 'parameter': 'pm10', 'date': {'utc': '2018-10-29T19:00:00.000Z', 'local': '2018-10-29T16:00:00-03:00'}, 'value': 7, 'unit': 'µg/m³', 'coordinates': {'latitude': -39.831316104673, 'longitude': -73.22851282209}, 'country': 'CL', 'city': 'Valdivia'}, {'location': 'Valdivia', 'parameter': 'pm25', 'date': {'utc': '2018-10-29T19:00:00.000Z', 'local': '2018-10-29T16:00:00-03:00'}, 'value': 12, 'unit': 'µg/m³', 'coordinates': {'latitude': -39.831316104673, 'longitude': -73.22851282209}, 'country': 'CL', 'city': 'Valdivia'}, {'location': 'Valdivia', 'parameter': 'pm25', 'date': {'utc': '2018-10-29T18:00:00.000Z', 'local': '2018-10-29T15:00:00-03:00'}, 'value': 12, 'unit': 'µg/m³', 'coordinates': {'latitude': -39.831316104673, 'longitude': -73.22851282209}, 'country': 'CL', 'city': 'Valdivia'}, {'location': 'Valdivia', 'parameter': 'so2', 'date': {'utc': '2018-10-29T18:00:00.000Z', 'local': '2018-10-29T15:00:00-03:00'}, 'value': 2.52, 'unit': 'µg/m³', 'coordinates': {'latitude': -39.831316104673, 'longitude': -73.22851282209}, 'country': 'CL', 'city': 'Valdivia'}, {'location': 'Valdivia', 'parameter': 'co', 'date': {'utc': '2018-10-29T18:00:00.000Z', 'local': '2018-10-29T15:00:00-03:00'}, 'value': 132.55, 'unit': 'µg/m³', 'coordinates': {'latitude': -39.831316104673, 'longitude': -73.22851282209}, 'country': 'CL', 'city': 'Valdivia'}, {'location': 'Valdivia', 'parameter': 'pm10', 'date': {'utc': '2018-10-29T18:00:00.000Z', 'local': '2018-10-29T15:00:00-03:00'}, 'value': 23, 'unit': 'µg/m³', 'coordinates': {'latitude': -39.831316104673, 'longitude': -73.22851282209}, 'country': 'CL', 'city': 'Valdivia'}, {'location': 'Valdivia', 'parameter': 'co', 'date': {'utc': '2018-10-29T17:00:00.000Z', 'local': '2018-10-29T14:00:00-03:00'}, 'value': 125.86, 'unit': 'µg/m³', 'coordinates': {'latitude': -39.831316104673, 'longitude': -73.22851282209}, 'country': 'CL', 'city': 'Valdivia'}, {'location': 'Valdivia', 'parameter': 'pm10', 'date': {'utc': '2018-10-29T17:00:00.000Z', 'local': '2018-10-29T14:00:00-03:00'}, 'value': 6, 'unit': 'µg/m³', 'coordinates': {'latitude': -39.831316104673, 'longitude': -73.22851282209}, 'country': 'CL', 'city': 'Valdivia'}, {'location': 'Valdivia', 'parameter': 'so2', 'date': {'utc': '2018-10-29T17:00:00.000Z', 'local': '2018-10-29T14:00:00-03:00'}, 'value': 2.5, 'unit': 'µg/m³', 'coordinates': {'latitude': -39.831316104673, 'longitude': -73.22851282209}, 'country': 'CL', 'city': 'Valdivia'}, {'location': 'Valdivia', 'parameter': 'pm25', 'date': {'utc': '2018-10-29T17:00:00.000Z', 'local': '2018-10-29T14:00:00-03:00'}, 'value': 7, 'unit': 'µg/m³', 'coordinates': {'latitude': -39.831316104673, 'longitude': -73.22851282209}, 'country': 'CL', 'city': 'Valdivia'}, {'location': 'Valdivia', 'parameter': 'pm10', 'date': {'utc': '2018-10-29T16:00:00.000Z', 'local': '2018-10-29T13:00:00-03:00'}, 'value': 5, 'unit': 'µg/m³', 'coordinates': {'latitude': -39.831316104673, 'longitude': -73.22851282209}, 'country': 'CL', 'city': 'Valdivia'}, {'location': 'Valdivia', 'parameter': 'so2', 'date': {'utc': '2018-10-29T16:00:00.000Z', 'local': '2018-10-29T13:00:00-03:00'}, 'value': 2.43, 'unit': 'µg/m³', 'coordinates': {'latitude': -39.831316104673, 'longitude': -73.22851282209}, 'country': 'CL', 'city': 'Valdivia'}, {'location': 'Valdivia', 'parameter': 'co', 'date': {'utc': '2018-10-29T16:00:00.000Z', 'local': '2018-10-29T13:00:00-03:00'}, 'value': 51.72, 'unit': 'µg/m³', 'coordinates': {'latitude': -39.831316104673, 'longitude': -73.22851282209}, 'country': 'CL', 'city': 'Valdivia'}, {'location': 'Valdivia', 'parameter': 'pm25', 'date': {'utc': '2018-10-29T16:00:00.000Z', 'local': '2018-10-29T13:00:00-03:00'}, 'value': 7, 'unit': 'µg/m³', 'coordinates': {'latitude': -39.831316104673, 'longitude': -73.22851282209}, 'country': 'CL', 'city': 'Valdivia'}, {'location': 'Valdivia', 'parameter': 'pm25', 'date': {'utc': '2018-10-29T15:00:00.000Z', 'local': '2018-10-29T12:00:00-03:00'}, 'value': 10, 'unit': 'µg/m³', 'coordinates': {'latitude': -39.831316104673, 'longitude': -73.22851282209}, 'country': 'CL', 'city': 'Valdivia'}, {'location': 'Valdivia', 'parameter': 'so2', 'date': {'utc': '2018-10-29T15:00:00.000Z', 'local': '2018-10-29T12:00:00-03:00'}, 'value': 2.36, 'unit': 'µg/m³', 'coordinates': {'latitude': -39.831316104673, 'longitude': -73.22851282209}, 'country': 'CL', 'city': 'Valdivia'}, {'location': 'Valdivia', 'parameter': 'co', 'date': {'utc': '2018-10-29T15:00:00.000Z', 'local': '2018-10-29T12:00:00-03:00'}, 'value': 94.02, 'unit': 'µg/m³', 'coordinates': {'latitude': -39.831316104673, 'longitude': -73.22851282209}, 'country': 'CL', 'city': 'Valdivia'}, {'location': 'Valdivia', 'parameter': 'pm10', 'date': {'utc': '2018-10-29T15:00:00.000Z', 'local': '2018-10-29T12:00:00-03:00'}, 'value': 10, 'unit': 'µg/m³', 'coordinates': {'latitude': -39.831316104673, 'longitude': -73.22851282209}, 'country': 'CL', 'city': 'Valdivia'}, {'location': 'Valdivia', 'parameter': 'pm10', 'date': {'utc': '2018-10-29T14:00:00.000Z', 'local': '2018-10-29T11:00:00-03:00'}, 'value': 13, 'unit': 'µg/m³', 'coordinates': {'latitude': -39.831316104673, 'longitude': -73.22851282209}, 'country': 'CL', 'city': 'Valdivia'}, {'location': 'Valdivia', 'parameter': 'so2', 'date': {'utc': '2018-10-29T14:00:00.000Z', 'local': '2018-10-29T11:00:00-03:00'}, 'value': 2.66, 'unit': 'µg/m³', 'coordinates': {'latitude': -39.831316104673, 'longitude': -73.22851282209}, 'country': 'CL', 'city': 'Valdivia'}, {'location': 'Valdivia', 'parameter': 'co', 'date': {'utc': '2018-10-29T14:00:00.000Z', 'local': '2018-10-29T11:00:00-03:00'}, 'value': 111.44, 'unit': 'µg/m³', 'coordinates': {'latitude': -39.831316104673, 'longitude': -73.22851282209}, 'country': 'CL', 'city': 'Valdivia'}, {'location': 'Valdivia', 'parameter': 'pm25', 'date': {'utc': '2018-10-29T14:00:00.000Z', 'local': '2018-10-29T11:00:00-03:00'}, 'value': 12, 'unit': 'µg/m³', 'coordinates': {'latitude': -39.831316104673, 'longitude': -73.22851282209}, 'country': 'CL', 'city': 'Valdivia'}, {'location': 'Valdivia', 'parameter': 'co', 'date': {'utc': '2018-10-29T13:00:00.000Z', 'local': '2018-10-29T10:00:00-03:00'}, 'value': 150.18, 'unit': 'µg/m³', 'coordinates': {'latitude': -39.831316104673, 'longitude': -73.22851282209}, 'country': 'CL', 'city': 'Valdivia'}, {'location': 'Valdivia', 'parameter': 'pm10', 'date': {'utc': '2018-10-29T13:00:00.000Z', 'local': '2018-10-29T10:00:00-03:00'}, 'value': 20, 'unit': 'µg/m³', 'coordinates': {'latitude': -39.831316104673, 'longitude': -73.22851282209}, 'country': 'CL', 'city': 'Valdivia'}, {'location': 'Valdivia', 'parameter': 'pm25', 'date': {'utc': '2018-10-29T13:00:00.000Z', 'local': '2018-10-29T10:00:00-03:00'}, 'value': 15, 'unit': 'µg/m³', 'coordinates': {'latitude': -39.831316104673, 'longitude': -73.22851282209}, 'country': 'CL', 'city': 'Valdivia'}, {'location': 'Valdivia', 'parameter': 'so2', 'date': {'utc': '2018-10-29T13:00:00.000Z', 'local': '2018-10-29T10:00:00-03:00'}, 'value': 2.5, 'unit': 'µg/m³', 'coordinates': {'latitude': -39.831316104673, 'longitude': -73.22851282209}, 'country': 'CL', 'city': 'Valdivia'}, {'location': 'Valdivia', 'parameter': 'co', 'date': {'utc': '2018-10-29T12:00:00.000Z', 'local': '2018-10-29T09:00:00-03:00'}, 'value': 163.58, 'unit': 'µg/m³', 'coordinates': {'latitude': -39.831316104673, 'longitude': -73.22851282209}, 'country': 'CL', 'city': 'Valdivia'}, {'location': 'Valdivia', 'parameter': 'pm10', 'date': {'utc': '2018-10-29T12:00:00.000Z', 'local': '2018-10-29T09:00:00-03:00'}, 'value': 23, 'unit': 'µg/m³', 'coordinates': {'latitude': -39.831316104673, 'longitude': -73.22851282209}, 'country': 'CL', 'city': 'Valdivia'}, {'location': 'Valdivia', 'parameter': 'pm25', 'date': {'utc': '2018-10-29T12:00:00.000Z', 'local': '2018-10-29T09:00:00-03:00'}, 'value': 13, 'unit': 'µg/m³', 'coordinates': {'latitude': -39.831316104673, 'longitude': -73.22851282209}, 'country': 'CL', 'city': 'Valdivia'}, {'location': 'Valdivia', 'parameter': 'so2', 'date': {'utc': '2018-10-29T12:00:00.000Z', 'local': '2018-10-29T09:00:00-03:00'}, 'value': 2.44, 'unit': 'µg/m³', 'coordinates': {'latitude': -39.831316104673, 'longitude': -73.22851282209}, 'country': 'CL', 'city': 'Valdivia'}, {'location': 'Valdivia', 'parameter': 'pm10', 'date': {'utc': '2018-10-29T11:00:00.000Z', 'local': '2018-10-29T08:00:00-03:00'}, 'value': 13, 'unit': 'µg/m³', 'coordinates': {'latitude': -39.831316104673, 'longitude': -73.22851282209}, 'country': 'CL', 'city': 'Valdivia'}, {'location': 'Valdivia', 'parameter': 'so2', 'date': {'utc': '2018-10-29T11:00:00.000Z', 'local': '2018-10-29T08:00:00-03:00'}, 'value': 2.85, 'unit': 'µg/m³', 'coordinates': {'latitude': -39.831316104673, 'longitude': -73.22851282209}, 'country': 'CL', 'city': 'Valdivia'}, {'location': 'Valdivia', 'parameter': 'co', 'date': {'utc': '2018-10-29T11:00:00.000Z', 'local': '2018-10-29T08:00:00-03:00'}, 'value': 325.93, 'unit': 'µg/m³', 'coordinates': {'latitude': -39.831316104673, 'longitude': -73.22851282209}, 'country': 'CL', 'city': 'Valdivia'}, {'location': 'Valdivia', 'parameter': 'pm25', 'date': {'utc': '2018-10-29T11:00:00.000Z', 'local': '2018-10-29T08:00:00-03:00'}, 'value': 18, 'unit': 'µg/m³', 'coordinates': {'latitude': -39.831316104673, 'longitude': -73.22851282209}, 'country': 'CL', 'city': 'Valdivia'}, {'location': 'Valdivia', 'parameter': 'so2', 'date': {'utc': '2018-10-29T10:00:00.000Z', 'local': '2018-10-29T07:00:00-03:00'}, 'value': 2.54, 'unit': 'µg/m³', 'coordinates': {'latitude': -39.831316104673, 'longitude': -73.22851282209}, 'country': 'CL', 'city': 'Valdivia'}, {'location': 'Valdivia', 'parameter': 'co', 'date': {'utc': '2018-10-29T10:00:00.000Z', 'local': '2018-10-29T07:00:00-03:00'}, 'value': 250.58, 'unit': 'µg/m³', 'coordinates': {'latitude': -39.831316104673, 'longitude': -73.22851282209}, 'country': 'CL', 'city': 'Valdivia'}, {'location': 'Valdivia', 'parameter': 'pm25', 'date': {'utc': '2018-10-29T10:00:00.000Z', 'local': '2018-10-29T07:00:00-03:00'}, 'value': 4, 'unit': 'µg/m³', 'coordinates': {'latitude': -39.831316104673, 'longitude': -73.22851282209}, 'country': 'CL', 'city': 'Valdivia'}, {'location': 'Valdivia', 'parameter': 'pm10', 'date': {'utc': '2018-10-29T10:00:00.000Z', 'local': '2018-10-29T07:00:00-03:00'}, 'value': 16, 'unit': 'µg/m³', 'coordinates': {'latitude': -39.831316104673, 'longitude': -73.22851282209}, 'country': 'CL', 'city': 'Valdivia'}, {'location': 'Valdivia', 'parameter': 'pm10', 'date': {'utc': '2018-10-29T09:00:00.000Z', 'local': '2018-10-29T06:00:00-03:00'}, 'value': 7, 'unit': 'µg/m³', 'coordinates': {'latitude': -39.831316104673, 'longitude': -73.22851282209}, 'country': 'CL', 'city': 'Valdivia'}, {'location': 'Valdivia', 'parameter': 'pm25', 'date': {'utc': '2018-10-29T08:00:00.000Z', 'local': '2018-10-29T05:00:00-03:00'}, 'value': 3, 'unit': 'µg/m³', 'coordinates': {'latitude': -39.831316104673, 'longitude': -73.22851282209}, 'country': 'CL', 'city': 'Valdivia'}, {'location': 'Valdivia', 'parameter': 'pm10', 'date': {'utc': '2018-10-29T07:00:00.000Z', 'local': '2018-10-29T04:00:00-03:00'}, 'value': 8, 'unit': 'µg/m³', 'coordinates': {'latitude': -39.831316104673, 'longitude': -73.22851282209}, 'country': 'CL', 'city': 'Valdivia'}, {'location': 'Valdivia', 'parameter': 'so2', 'date': {'utc': '2018-10-29T07:00:00.000Z', 'local': '2018-10-29T04:00:00-03:00'}, 'value': 2.19, 'unit': 'µg/m³', 'coordinates': {'latitude': -39.831316104673, 'longitude': -73.22851282209}, 'country': 'CL', 'city': 'Valdivia'}, {'location': 'Valdivia', 'parameter': 'co', 'date': {'utc': '2018-10-29T07:00:00.000Z', 'local': '2018-10-29T04:00:00-03:00'}, 'value': 67.66, 'unit': 'µg/m³', 'coordinates': {'latitude': -39.831316104673, 'longitude': -73.22851282209}, 'country': 'CL', 'city': 'Valdivia'}, {'location': 'Valdivia', 'parameter': 'pm25', 'date': {'utc': '2018-10-29T07:00:00.000Z', 'local': '2018-10-29T04:00:00-03:00'}, 'value': 5, 'unit': 'µg/m³', 'coordinates': {'latitude': -39.831316104673, 'longitude': -73.22851282209}, 'country': 'CL', 'city': 'Valdivia'}, {'location': 'Valdivia', 'parameter': 'pm25', 'date': {'utc': '2018-10-29T06:00:00.000Z', 'local': '2018-10-29T03:00:00-03:00'}, 'value': 5, 'unit': 'µg/m³', 'coordinates': {'latitude': -39.831316104673, 'longitude': -73.22851282209}, 'country': 'CL', 'city': 'Valdivia'}, {'location': 'Valdivia', 'parameter': 'co', 'date': {'utc': '2018-10-29T06:00:00.000Z', 'local': '2018-10-29T03:00:00-03:00'}, 'value': 21.45, 'unit': 'µg/m³', 'coordinates': {'latitude': -39.831316104673, 'longitude': -73.22851282209}, 'country': 'CL', 'city': 'Valdivia'}, {'location': 'Valdivia', 'parameter': 'pm10', 'date': {'utc': '2018-10-29T06:00:00.000Z', 'local': '2018-10-29T03:00:00-03:00'}, 'value': 6, 'unit': 'µg/m³', 'coordinates': {'latitude': -39.831316104673, 'longitude': -73.22851282209}, 'country': 'CL', 'city': 'Valdivia'}, {'location': 'Valdivia', 'parameter': 'so2', 'date': {'utc': '2018-10-29T06:00:00.000Z', 'local': '2018-10-29T03:00:00-03:00'}, 'value': 2.33, 'unit': 'µg/m³', 'coordinates': {'latitude': -39.831316104673, 'longitude': -73.22851282209}, 'country': 'CL', 'city': 'Valdivia'}, {'location': 'Valdivia', 'parameter': 'co', 'date': {'utc': '2018-10-29T05:00:00.000Z', 'local': '2018-10-29T02:00:00-03:00'}, 'value': 28.3, 'unit': 'µg/m³', 'coordinates': {'latitude': -39.831316104673, 'longitude': -73.22851282209}, 'country': 'CL', 'city': 'Valdivia'}, {'location': 'Valdivia', 'parameter': 'pm10', 'date': {'utc': '2018-10-29T05:00:00.000Z', 'local': '2018-10-29T02:00:00-03:00'}, 'value': 4, 'unit': 'µg/m³', 'coordinates': {'latitude': -39.831316104673, 'longitude': -73.22851282209}, 'country': 'CL', 'city': 'Valdivia'}, {'location': 'Valdivia', 'parameter': 'so2', 'date': {'utc': '2018-10-29T05:00:00.000Z', 'local': '2018-10-29T02:00:00-03:00'}, 'value': 2.31, 'unit': 'µg/m³', 'coordinates': {'latitude': -39.831316104673, 'longitude': -73.22851282209}, 'country': 'CL', 'city': 'Valdivia'}, {'location': 'Valdivia', 'parameter': 'pm25', 'date': {'utc': '2018-10-29T05:00:00.000Z', 'local': '2018-10-29T02:00:00-03:00'}, 'value': 4, 'unit': 'µg/m³', 'coordinates': {'latitude': -39.831316104673, 'longitude': -73.22851282209}, 'country': 'CL', 'city': 'Valdivia'}, {'location': 'Valdivia', 'parameter': 'pm25', 'date': {'utc': '2018-10-29T04:00:00.000Z', 'local': '2018-10-29T01:00:00-03:00'}, 'value': 5, 'unit': 'µg/m³', 'coordinates': {'latitude': -39.831316104673, 'longitude': -73.22851282209}, 'country': 'CL', 'city': 'Valdivia'}, {'location': 'Valdivia', 'parameter': 'so2', 'date': {'utc': '2018-10-29T04:00:00.000Z', 'local': '2018-10-29T01:00:00-03:00'}, 'value': 2.47, 'unit': 'µg/m³', 'coordinates': {'latitude': -39.831316104673, 'longitude': -73.22851282209}, 'country': 'CL', 'city': 'Valdivia'}, {'location': 'Valdivia', 'parameter': 'co', 'date': {'utc': '2018-10-29T04:00:00.000Z', 'local': '2018-10-29T01:00:00-03:00'}, 'value': 54.78, 'unit': 'µg/m³', 'coordinates': {'latitude': -39.831316104673, 'longitude': -73.22851282209}, 'country': 'CL', 'city': 'Valdivia'}, {'location': 'Valdivia', 'parameter': 'pm10', 'date': {'utc': '2018-10-29T04:00:00.000Z', 'local': '2018-10-29T01:00:00-03:00'}, 'value': 5, 'unit': 'µg/m³', 'coordinates': {'latitude': -39.831316104673, 'longitude': -73.22851282209}, 'country': 'CL', 'city': 'Valdivia'}, {'location': 'Valdivia', 'parameter': 'so2', 'date': {'utc': '2018-10-29T03:00:00.000Z', 'local': '2018-10-29T00:00:00-03:00'}, 'value': 2.24, 'unit': 'µg/m³', 'coordinates': {'latitude': -39.831316104673, 'longitude': -73.22851282209}, 'country': 'CL', 'city': 'Valdivia'}, {'location': 'Valdivia', 'parameter': 'pm10', 'date': {'utc': '2018-10-29T03:00:00.000Z', 'local': '2018-10-29T00:00:00-03:00'}, 'value': 11, 'unit': 'µg/m³', 'coordinates': {'latitude': -39.831316104673, 'longitude': -73.22851282209}, 'country': 'CL', 'city': 'Valdivia'}, {'location': 'Valdivia', 'parameter': 'co', 'date': {'utc': '2018-10-29T03:00:00.000Z', 'local': '2018-10-29T00:00:00-03:00'}, 'value': 125.86, 'unit': 'µg/m³', 'coordinates': {'latitude': -39.831316104673, 'longitude': -73.22851282209}, 'country': 'CL', 'city': 'Valdivia'}, {'location': 'Valdivia', 'parameter': 'pm25', 'date': {'utc': '2018-10-29T03:00:00.000Z', 'local': '2018-10-29T00:00:00-03:00'}, 'value': 18, 'unit': 'µg/m³', 'coordinates': {'latitude': -39.831316104673, 'longitude': -73.22851282209}, 'country': 'CL', 'city': 'Valdivia'}, {'location': 'Valdivia', 'parameter': 'so2', 'date': {'utc': '2018-10-29T02:00:00.000Z', 'local': '2018-10-28T23:00:00-03:00'}, 'value': 2.28, 'unit': 'µg/m³', 'coordinates': {'latitude': -39.831316104673, 'longitude': -73.22851282209}, 'country': 'CL', 'city': 'Valdivia'}, {'location': 'Valdivia', 'parameter': 'co', 'date': {'utc': '2018-10-29T02:00:00.000Z', 'local': '2018-10-28T23:00:00-03:00'}, 'value': 173.8, 'unit': 'µg/m³', 'coordinates': {'latitude': -39.831316104673, 'longitude': -73.22851282209}, 'country': 'CL', 'city': 'Valdivia'}, {'location': 'Valdivia', 'parameter': 'pm10', 'date': {'utc': '2018-10-29T02:00:00.000Z', 'local': '2018-10-28T23:00:00-03:00'}, 'value': 14, 'unit': 'µg/m³', 'coordinates': {'latitude': -39.831316104673, 'longitude': -73.22851282209}, 'country': 'CL', 'city': 'Valdivia'}, {'location': 'Valdivia', 'parameter': 'pm25', 'date': {'utc': '2018-10-29T02:00:00.000Z', 'local': '2018-10-28T23:00:00-03:00'}, 'value': 14, 'unit': 'µg/m³', 'coordinates': {'latitude': -39.831316104673, 'longitude': -73.22851282209}, 'country': 'CL', 'city': 'Valdivia'}, {'location': 'Valdivia', 'parameter': 'pm25', 'date': {'utc': '2018-10-29T01:00:00.000Z', 'local': '2018-10-28T22:00:00-03:00'}, 'value': 9, 'unit': 'µg/m³', 'coordinates': {'latitude': -39.831316104673, 'longitude': -73.22851282209}, 'country': 'CL', 'city': 'Valdivia'}, {'location': 'Valdivia', 'parameter': 'so2', 'date': {'utc': '2018-10-29T01:00:00.000Z', 'local': '2018-10-28T22:00:00-03:00'}, 'value': 2.42, 'unit': 'µg/m³', 'coordinates': {'latitude': -39.831316104673, 'longitude': -73.22851282209}, 'country': 'CL', 'city': 'Valdivia'}, {'location': 'Valdivia', 'parameter': 'co', 'date': {'utc': '2018-10-29T01:00:00.000Z', 'local': '2018-10-28T22:00:00-03:00'}, 'value': 247.24, 'unit': 'µg/m³', 'coordinates': {'latitude': -39.831316104673, 'longitude': -73.22851282209}, 'country': 'CL', 'city': 'Valdivia'}, {'location': 'Valdivia', 'parameter': 'pm10', 'date': {'utc': '2018-10-29T01:00:00.000Z', 'local': '2018-10-28T22:00:00-03:00'}, 'value': 21, 'unit': 'µg/m³', 'coordinates': {'latitude': -39.831316104673, 'longitude': -73.22851282209}, 'country': 'CL', 'city': 'Valdivia'}, {'location': 'Valdivia', 'parameter': 'co', 'date': {'utc': '2018-10-29T00:00:00.000Z', 'local': '2018-10-28T21:00:00-03:00'}, 'value': 120.23, 'unit': 'µg/m³', 'coordinates': {'latitude': -39.831316104673, 'longitude': -73.22851282209}, 'country': 'CL', 'city': 'Valdivia'}, {'location': 'Valdivia', 'parameter': 'pm10', 'date': {'utc': '2018-10-29T00:00:00.000Z', 'local': '2018-10-28T21:00:00-03:00'}, 'value': 5, 'unit': 'µg/m³', 'coordinates': {'latitude': -39.831316104673, 'longitude': -73.22851282209}, 'country': 'CL', 'city': 'Valdivia'}, {'location': 'Valdivia', 'parameter': 'so2', 'date': {'utc': '2018-10-29T00:00:00.000Z', 'local': '2018-10-28T21:00:00-03:00'}, 'value': 2.3, 'unit': 'µg/m³', 'coordinates': {'latitude': -39.831316104673, 'longitude': -73.22851282209}, 'country': 'CL', 'city': 'Valdivia'}, {'location': 'Valdivia', 'parameter': 'pm25', 'date': {'utc': '2018-10-29T00:00:00.000Z', 'local': '2018-10-28T21:00:00-03:00'}, 'value': 10, 'unit': 'µg/m³', 'coordinates': {'latitude': -39.831316104673, 'longitude': -73.22851282209}, 'country': 'CL', 'city': 'Valdivia'}, {'location': 'Valdivia', 'parameter': 'pm10', 'date': {'utc': '2018-10-28T23:00:00.000Z', 'local': '2018-10-28T20:00:00-03:00'}, 'value': 1, 'unit': 'µg/m³', 'coordinates': {'latitude': -39.831316104673, 'longitude': -73.22851282209}, 'country': 'CL', 'city': 'Valdivia'}, {'location': 'Valdivia', 'parameter': 'pm25', 'date': {'utc': '2018-10-28T23:00:00.000Z', 'local': '2018-10-28T20:00:00-03:00'}, 'value': 5, 'unit': 'µg/m³', 'coordinates': {'latitude': -39.831316104673, 'longitude': -73.22851282209}, 'country': 'CL', 'city': 'Valdivia'}, {'location': 'Valdivia', 'parameter': 'co', 'date': {'utc': '2018-10-28T23:00:00.000Z', 'local': '2018-10-28T20:00:00-03:00'}, 'value': 80.31, 'unit': 'µg/m³', 'coordinates': {'latitude': -39.831316104673, 'longitude': -73.22851282209}, 'country': 'CL', 'city': 'Valdivia'}, {'location': 'Valdivia', 'parameter': 'so2', 'date': {'utc': '2018-10-28T23:00:00.000Z', 'local': '2018-10-28T20:00:00-03:00'}, 'value': 2.28, 'unit': 'µg/m³', 'coordinates': {'latitude': -39.831316104673, 'longitude': -73.22851282209}, 'country': 'CL', 'city': 'Valdivia'}, {'location': 'Valdivia', 'parameter': 'pm10', 'date': {'utc': '2018-10-28T22:00:00.000Z', 'local': '2018-10-28T19:00:00-03:00'}, 'value': 5, 'unit': 'µg/m³', 'coordinates': {'latitude': -39.831316104673, 'longitude': -73.22851282209}, 'country': 'CL', 'city': 'Valdivia'}, {'location': 'Valdivia', 'parameter': 'pm25', 'date': {'utc': '2018-10-28T22:00:00.000Z', 'local': '2018-10-28T19:00:00-03:00'}, 'value': 6, 'unit': 'µg/m³', 'coordinates': {'latitude': -39.831316104673, 'longitude': -73.22851282209}, 'country': 'CL', 'city': 'Valdivia'}, {'location': 'Valdivia', 'parameter': 'co', 'date': {'utc': '2018-10-28T22:00:00.000Z', 'local': '2018-10-28T19:00:00-03:00'}, 'value': 49.28, 'unit': 'µg/m³', 'coordinates': {'latitude': -39.831316104673, 'longitude': -73.22851282209}, 'country': 'CL', 'city': 'Valdivia'}, {'location': 'Valdivia', 'parameter': 'so2', 'date': {'utc': '2018-10-28T22:00:00.000Z', 'local': '2018-10-28T19:00:00-03:00'}, 'value': 2.16, 'unit': 'µg/m³', 'coordinates': {'latitude': -39.831316104673, 'longitude': -73.22851282209}, 'country': 'CL', 'city': 'Valdivia'}, {'location': 'Valdivia', 'parameter': 'pm25', 'date': {'utc': '2018-10-28T21:00:00.000Z', 'local': '2018-10-28T18:00:00-03:00'}, 'value': 8, 'unit': 'µg/m³', 'coordinates': {'latitude': -39.831316104673, 'longitude': -73.22851282209}, 'country': 'CL', 'city': 'Valdivia'}, {'location': 'Valdivia', 'parameter': 'pm10', 'date': {'utc': '2018-10-28T21:00:00.000Z', 'local': '2018-10-28T18:00:00-03:00'}, 'value': 10, 'unit': 'µg/m³', 'coordinates': {'latitude': -39.831316104673, 'longitude': -73.22851282209}, 'country': 'CL', 'city': 'Valdivia'}, {'location': 'Valdivia', 'parameter': 'co', 'date': {'utc': '2018-10-28T20:00:00.000Z', 'local': '2018-10-28T17:00:00-03:00'}, 'value': 54.05, 'unit': 'µg/m³', 'coordinates': {'latitude': -39.831316104673, 'longitude': -73.22851282209}, 'country': 'CL', 'city': 'Valdivia'}, {'location': 'Valdivia', 'parameter': 'so2', 'date': {'utc': '2018-10-28T20:00:00.000Z', 'local': '2018-10-28T17:00:00-03:00'}, 'value': 2.42, 'unit': 'µg/m³', 'coordinates': {'latitude': -39.831316104673, 'longitude': -73.22851282209}, 'country': 'CL', 'city': 'Valdivia'}, {'location': 'Valdivia', 'parameter': 'pm10', 'date': {'utc': '2018-10-28T20:00:00.000Z', 'local': '2018-10-28T17:00:00-03:00'}, 'value': 8, 'unit': 'µg/m³', 'coordinates': {'latitude': -39.831316104673, 'longitude': -73.22851282209}, 'country': 'CL', 'city': 'Valdivia'}, {'location': 'Valdivia', 'parameter': 'pm25', 'date': {'utc': '2018-10-28T20:00:00.000Z', 'local': '2018-10-28T17:00:00-03:00'}, 'value': 7, 'unit': 'µg/m³', 'coordinates': {'latitude': -39.831316104673, 'longitude': -73.22851282209}, 'country': 'CL', 'city': 'Valdivia'}, {'location': 'Valdivia', 'parameter': 'co', 'date': {'utc': '2018-10-28T19:00:00.000Z', 'local': '2018-10-28T16:00:00-03:00'}, 'value': 35.58, 'unit': 'µg/m³', 'coordinates': {'latitude': -39.831316104673, 'longitude': -73.22851282209}, 'country': 'CL', 'city': 'Valdivia'}, {'location': 'Valdivia', 'parameter': 'pm10', 'date': {'utc': '2018-10-28T19:00:00.000Z', 'local': '2018-10-28T16:00:00-03:00'}, 'value': 6, 'unit': 'µg/m³', 'coordinates': {'latitude': -39.831316104673, 'longitude': -73.22851282209}, 'country': 'CL', 'city': 'Valdivia'}, {'location': 'Valdivia', 'parameter': 'pm25', 'date': {'utc': '2018-10-28T19:00:00.000Z', 'local': '2018-10-28T16:00:00-03:00'}, 'value': 9, 'unit': 'µg/m³', 'coordinates': {'latitude': -39.831316104673, 'longitude': -73.22851282209}, 'country': 'CL', 'city': 'Valdivia'}, {'location': 'Valdivia', 'parameter': 'so2', 'date': {'utc': '2018-10-28T19:00:00.000Z', 'local': '2018-10-28T16:00:00-03:00'}, 'value': 2.32, 'unit': 'µg/m³', 'coordinates': {'latitude': -39.831316104673, 'longitude': -73.22851282209}, 'country': 'CL', 'city': 'Valdivia'}, {'location': 'Valdivia', 'parameter': 'co', 'date': {'utc': '2018-10-28T18:00:00.000Z', 'local': '2018-10-28T15:00:00-03:00'}, 'value': 55.58, 'unit': 'µg/m³', 'coordinates': {'latitude': -39.831316104673, 'longitude': -73.22851282209}, 'country': 'CL', 'city': 'Valdivia'}, {'location': 'Valdivia', 'parameter': 'pm25', 'date': {'utc': '2018-10-28T18:00:00.000Z', 'local': '2018-10-28T15:00:00-03:00'}, 'value': 10, 'unit': 'µg/m³', 'coordinates': {'latitude': -39.831316104673, 'longitude': -73.22851282209}, 'country': 'CL', 'city': 'Valdivia'}, {'location': 'Valdivia', 'parameter': 'pm10', 'date': {'utc': '2018-10-28T18:00:00.000Z', 'local': '2018-10-28T15:00:00-03:00'}, 'value': 10, 'unit': 'µg/m³', 'coordinates': {'latitude': -39.831316104673, 'longitude': -73.22851282209}, 'country': 'CL', 'city': 'Valdivia'}, {'location': 'Valdivia', 'parameter': 'so2', 'date': {'utc': '2018-10-28T18:00:00.000Z', 'local': '2018-10-28T15:00:00-03:00'}, 'value': 2.27, 'unit': 'µg/m³', 'coordinates': {'latitude': -39.831316104673, 'longitude': -73.22851282209}, 'country': 'CL', 'city': 'Valdivia'}, {'location': 'Valdivia', 'parameter': 'pm10', 'date': {'utc': '2018-10-28T17:00:00.000Z', 'local': '2018-10-28T14:00:00-03:00'}, 'value': 12, 'unit': 'µg/m³', 'coordinates': {'latitude': -39.831316104673, 'longitude': -73.22851282209}, 'country': 'CL', 'city': 'Valdivia'}, {'location': 'Valdivia', 'parameter': 'pm25', 'date': {'utc': '2018-10-28T17:00:00.000Z', 'local': '2018-10-28T14:00:00-03:00'}, 'value': 11, 'unit': 'µg/m³', 'coordinates': {'latitude': -39.831316104673, 'longitude': -73.22851282209}, 'country': 'CL', 'city': 'Valdivia'}, {'location': 'Valdivia', 'parameter': 'co', 'date': {'utc': '2018-10-28T17:00:00.000Z', 'local': '2018-10-28T14:00:00-03:00'}, 'value': 141.14, 'unit': 'µg/m³', 'coordinates': {'latitude': -39.831316104673, 'longitude': -73.22851282209}, 'country': 'CL', 'city': 'Valdivia'}, {'location': 'Valdivia', 'parameter': 'so2', 'date': {'utc': '2018-10-28T17:00:00.000Z', 'local': '2018-10-28T14:00:00-03:00'}, 'value': 2.34, 'unit': 'µg/m³', 'coordinates': {'latitude': -39.831316104673, 'longitude': -73.22851282209}, 'country': 'CL', 'city': 'Valdivia'}, {'location': 'Valdivia', 'parameter': 'pm10', 'date': {'utc': '2018-10-28T16:00:00.000Z', 'local': '2018-10-28T13:00:00-03:00'}, 'value': 9, 'unit': 'µg/m³', 'coordinates': {'latitude': -39.831316104673, 'longitude': -73.22851282209}, 'country': 'CL', 'city': 'Valdivia'}, {'location': 'Valdivia', 'parameter': 'so2', 'date': {'utc': '2018-10-28T15:00:00.000Z', 'local': '2018-10-28T12:00:00-03:00'}, 'value': 2.4, 'unit': 'µg/m³', 'coordinates': {'latitude': -39.831316104673, 'longitude': -73.22851282209}, 'country': 'CL', 'city': 'Valdivia'}, {'location': 'Valdivia', 'parameter': 'pm25', 'date': {'utc': '2018-10-28T15:00:00.000Z', 'local': '2018-10-28T12:00:00-03:00'}, 'value': 6, 'unit': 'µg/m³', 'coordinates': {'latitude': -39.831316104673, 'longitude': -73.22851282209}, 'country': 'CL', 'city': 'Valdivia'}, {'location': 'Valdivia', 'parameter': 'co', 'date': {'utc': '2018-10-28T15:00:00.000Z', 'local': '2018-10-28T12:00:00-03:00'}, 'value': 55.07, 'unit': 'µg/m³', 'coordinates': {'latitude': -39.831316104673, 'longitude': -73.22851282209}, 'country': 'CL', 'city': 'Valdivia'}, {'location': 'Valdivia', 'parameter': 'co', 'date': {'utc': '2018-10-28T14:00:00.000Z', 'local': '2018-10-28T11:00:00-03:00'}, 'value': 27.39, 'unit': 'µg/m³', 'coordinates': {'latitude': -39.831316104673, 'longitude': -73.22851282209}, 'country': 'CL', 'city': 'Valdivia'}, {'location': 'Valdivia', 'parameter': 'pm10', 'date': {'utc': '2018-10-28T14:00:00.000Z', 'local': '2018-10-28T11:00:00-03:00'}, 'value': 13, 'unit': 'µg/m³', 'coordinates': {'latitude': -39.831316104673, 'longitude': -73.22851282209}, 'country': 'CL', 'city': 'Valdivia'}, {'location': 'Valdivia', 'parameter': 'so2', 'date': {'utc': '2018-10-28T14:00:00.000Z', 'local': '2018-10-28T11:00:00-03:00'}, 'value': 2.31, 'unit': 'µg/m³', 'coordinates': {'latitude': -39.831316104673, 'longitude': -73.22851282209}, 'country': 'CL', 'city': 'Valdivia'}, {'location': 'Valdivia', 'parameter': 'pm25', 'date': {'utc': '2018-10-28T14:00:00.000Z', 'local': '2018-10-28T11:00:00-03:00'}, 'value': 4, 'unit': 'µg/m³', 'coordinates': {'latitude': -39.831316104673, 'longitude': -73.22851282209}, 'country': 'CL', 'city': 'Valdivia'}, {'location': 'Valdivia', 'parameter': 'so2', 'date': {'utc': '2018-10-28T13:00:00.000Z', 'local': '2018-10-28T10:00:00-03:00'}, 'value': 2.31, 'unit': 'µg/m³', 'coordinates': {'latitude': -39.831316104673, 'longitude': -73.22851282209}, 'country': 'CL', 'city': 'Valdivia'}, {'location': 'Valdivia', 'parameter': 'pm25', 'date': {'utc': '2018-10-28T13:00:00.000Z', 'local': '2018-10-28T10:00:00-03:00'}, 'value': 5, 'unit': 'µg/m³', 'coordinates': {'latitude': -39.831316104673, 'longitude': -73.22851282209}, 'country': 'CL', 'city': 'Valdivia'}, {'location': 'Valdivia', 'parameter': 'co', 'date': {'utc': '2018-10-28T13:00:00.000Z', 'local': '2018-10-28T10:00:00-03:00'}, 'value': 59.97, 'unit': 'µg/m³', 'coordinates': {'latitude': -39.831316104673, 'longitude': -73.22851282209}, 'country': 'CL', 'city': 'Valdivia'}, {'location': 'Valdivia', 'parameter': 'pm10', 'date': {'utc': '2018-10-28T13:00:00.000Z', 'local': '2018-10-28T10:00:00-03:00'}, 'value': 13, 'unit': 'µg/m³', 'coordinates': {'latitude': -39.831316104673, 'longitude': -73.22851282209}, 'country': 'CL', 'city': 'Valdivia'}, {'location': 'Valdivia', 'parameter': 'pm10', 'date': {'utc': '2018-10-28T12:00:00.000Z', 'local': '2018-10-28T09:00:00-03:00'}, 'value': 7, 'unit': 'µg/m³', 'coordinates': {'latitude': -39.831316104673, 'longitude': -73.22851282209}, 'country': 'CL', 'city': 'Valdivia'}, {'location': 'Valdivia', 'parameter': 'pm25', 'date': {'utc': '2018-10-28T12:00:00.000Z', 'local': '2018-10-28T09:00:00-03:00'}, 'value': 5, 'unit': 'µg/m³', 'coordinates': {'latitude': -39.831316104673, 'longitude': -73.22851282209}, 'country': 'CL', 'city': 'Valdivia'}, {'location': 'Valdivia', 'parameter': 'co', 'date': {'utc': '2018-10-28T12:00:00.000Z', 'local': '2018-10-28T09:00:00-03:00'}, 'value': 59.7, 'unit': 'µg/m³', 'coordinates': {'latitude': -39.831316104673, 'longitude': -73.22851282209}, 'country': 'CL', 'city': 'Valdivia'}, {'location': 'Valdivia', 'parameter': 'so2', 'date': {'utc': '2018-10-28T12:00:00.000Z', 'local': '2018-10-28T09:00:00-03:00'}, 'value': 2.32, 'unit': 'µg/m³', 'coordinates': {'latitude': -39.831316104673, 'longitude': -73.22851282209}, 'country': 'CL', 'city': 'Valdivia'}, {'location': 'Valdivia', 'parameter': 'pm25', 'date': {'utc': '2018-10-28T11:00:00.000Z', 'local': '2018-10-28T08:00:00-03:00'}, 'value': 8, 'unit': 'µg/m³', 'coordinates': {'latitude': -39.831316104673, 'longitude': -73.22851282209}, 'country': 'CL', 'city': 'Valdivia'}, {'location': 'Valdivia', 'parameter': 'pm10', 'date': {'utc': '2018-10-28T11:00:00.000Z', 'local': '2018-10-28T08:00:00-03:00'}, 'value': 5, 'unit': 'µg/m³', 'coordinates': {'latitude': -39.831316104673, 'longitude': -73.22851282209}, 'country': 'CL', 'city': 'Valdivia'}, {'location': 'Valdivia', 'parameter': 'so2', 'date': {'utc': '2018-10-28T11:00:00.000Z', 'local': '2018-10-28T08:00:00-03:00'}, 'value': 2.25, 'unit': 'µg/m³', 'coordinates': {'latitude': -39.831316104673, 'longitude': -73.22851282209}, 'country': 'CL', 'city': 'Valdivia'}, {'location': 'Valdivia', 'parameter': 'co', 'date': {'utc': '2018-10-28T11:00:00.000Z', 'local': '2018-10-28T08:00:00-03:00'}, 'value': 46.41, 'unit': 'µg/m³', 'coordinates': {'latitude': -39.831316104673, 'longitude': -73.22851282209}, 'country': 'CL', 'city': 'Valdivia'}, {'location': 'Valdivia', 'parameter': 'so2', 'date': {'utc': '2018-10-28T10:00:00.000Z', 'local': '2018-10-28T07:00:00-03:00'}, 'value': 2.12, 'unit': 'µg/m³', 'coordinates': {'latitude': -39.831316104673, 'longitude': -73.22851282209}, 'country': 'CL', 'city': 'Valdivia'}, {'location': 'Valdivia', 'parameter': 'pm25', 'date': {'utc': '2018-10-28T10:00:00.000Z', 'local': '2018-10-28T07:00:00-03:00'}, 'value': 8, 'unit': 'µg/m³', 'coordinates': {'latitude': -39.831316104673, 'longitude': -73.22851282209}, 'country': 'CL', 'city': 'Valdivia'}, {'location': 'Valdivia', 'parameter': 'pm10', 'date': {'utc': '2018-10-28T10:00:00.000Z', 'local': '2018-10-28T07:00:00-03:00'}, 'value': 10, 'unit': 'µg/m³', 'coordinates': {'latitude': -39.831316104673, 'longitude': -73.22851282209}, 'country': 'CL', 'city': 'Valdivia'}, {'location': 'Valdivia', 'parameter': 'so2', 'date': {'utc': '2018-10-28T09:00:00.000Z', 'local': '2018-10-28T06:00:00-03:00'}, 'value': 2.17, 'unit': 'µg/m³', 'coordinates': {'latitude': -39.831316104673, 'longitude': -73.22851282209}, 'country': 'CL', 'city': 'Valdivia'}, {'location': 'Valdivia', 'parameter': 'pm25', 'date': {'utc': '2018-10-28T09:00:00.000Z', 'local': '2018-10-28T06:00:00-03:00'}, 'value': 8, 'unit': 'µg/m³', 'coordinates': {'latitude': -39.831316104673, 'longitude': -73.22851282209}, 'country': 'CL', 'city': 'Valdivia'}, {'location': 'Valdivia', 'parameter': 'co', 'date': {'utc': '2018-10-28T09:00:00.000Z', 'local': '2018-10-28T06:00:00-03:00'}, 'value': 266.43, 'unit': 'µg/m³', 'coordinates': {'latitude': -39.831316104673, 'longitude': -73.22851282209}, 'country': 'CL', 'city': 'Valdivia'}, {'location': 'Valdivia', 'parameter': 'pm10', 'date': {'utc': '2018-10-28T09:00:00.000Z', 'local': '2018-10-28T06:00:00-03:00'}, 'value': 17, 'unit': 'µg/m³', 'coordinates': {'latitude': -39.831316104673, 'longitude': -73.22851282209}, 'country': 'CL', 'city': 'Valdivia'}, {'location': 'Valdivia', 'parameter': 'pm25', 'date': {'utc': '2018-10-28T08:00:00.000Z', 'local': '2018-10-28T05:00:00-03:00'}, 'value': 6, 'unit': 'µg/m³', 'coordinates': {'latitude': -39.831316104673, 'longitude': -73.22851282209}, 'country': 'CL', 'city': 'Valdivia'}, {'location': 'Valdivia', 'parameter': 'pm10', 'date': {'utc': '2018-10-28T08:00:00.000Z', 'local': '2018-10-28T05:00:00-03:00'}, 'value': 10, 'unit': 'µg/m³', 'coordinates': {'latitude': -39.831316104673, 'longitude': -73.22851282209}, 'country': 'CL', 'city': 'Valdivia'}, {'location': 'Valdivia', 'parameter': 'pm10', 'date': {'utc': '2018-10-28T07:00:00.000Z', 'local': '2018-10-28T04:00:00-03:00'}, 'value': 7, 'unit': 'µg/m³', 'coordinates': {'latitude': -39.831316104673, 'longitude': -73.22851282209}, 'country': 'CL', 'city': 'Valdivia'}, {'location': 'Valdivia', 'parameter': 'so2', 'date': {'utc': '2018-10-28T03:00:00.000Z', 'local': '2018-10-28T00:00:00-03:00'}, 'value': 2.09, 'unit': 'µg/m³', 'coordinates': {'latitude': -39.831316104673, 'longitude': -73.22851282209}, 'country': 'CL', 'city': 'Valdivia'}, {'location': 'Valdivia', 'parameter': 'co', 'date': {'utc': '2018-10-28T02:00:00.000Z', 'local': '2018-10-27T23:00:00-03:00'}, 'value': 165.49, 'unit': 'µg/m³', 'coordinates': {'latitude': -39.831316104673, 'longitude': -73.22851282209}, 'country': 'CL', 'city': 'Valdivia'}, {'location': 'Valdivia', 'parameter': 'so2', 'date': {'utc': '2018-10-28T02:00:00.000Z', 'local': '2018-10-27T23:00:00-03:00'}, 'value': 2.09, 'unit': 'µg/m³', 'coordinates': {'latitude': -39.831316104673, 'longitude': -73.22851282209}, 'country': 'CL', 'city': 'Valdivia'}, {'location': 'Valdivia', 'parameter': 'pm25', 'date': {'utc': '2018-10-28T02:00:00.000Z', 'local': '2018-10-27T23:00:00-03:00'}, 'value': 17, 'unit': 'µg/m³', 'coordinates': {'latitude': -39.831316104673, 'longitude': -73.22851282209}, 'country': 'CL', 'city': 'Valdivia'}, {'location': 'Valdivia', 'parameter': 'co', 'date': {'utc': '2018-10-28T01:00:00.000Z', 'local': '2018-10-27T22:00:00-03:00'}, 'value': 223.51, 'unit': 'µg/m³', 'coordinates': {'latitude': -39.831316104673, 'longitude': -73.22851282209}, 'country': 'CL', 'city': 'Valdivia'}, {'location': 'Valdivia', 'parameter': 'pm10', 'date': {'utc': '2018-10-28T01:00:00.000Z', 'local': '2018-10-27T22:00:00-03:00'}, 'value': 19, 'unit': 'µg/m³', 'coordinates': {'latitude': -39.831316104673, 'longitude': -73.22851282209}, 'country': 'CL', 'city': 'Valdivia'}, {'location': 'Valdivia', 'parameter': 'pm25', 'date': {'utc': '2018-10-28T01:00:00.000Z', 'local': '2018-10-27T22:00:00-03:00'}, 'value': 11, 'unit': 'µg/m³', 'coordinates': {'latitude': -39.831316104673, 'longitude': -73.22851282209}, 'country': 'CL', 'city': 'Valdivia'}, {'location': 'Valdivia', 'parameter': 'so2', 'date': {'utc': '2018-10-28T01:00:00.000Z', 'local': '2018-10-27T22:00:00-03:00'}, 'value': 2.12, 'unit': 'µg/m³', 'coordinates': {'latitude': -39.831316104673, 'longitude': -73.22851282209}, 'country': 'CL', 'city': 'Valdivia'}, {'location': 'Valdivia', 'parameter': 'pm10', 'date': {'utc': '2018-10-28T00:00:00.000Z', 'local': '2018-10-27T21:00:00-03:00'}, 'value': 17, 'unit': 'µg/m³', 'coordinates': {'latitude': -39.831316104673, 'longitude': -73.22851282209}, 'country': 'CL', 'city': 'Valdivia'}]}\n"
     ]
    }
   ],
   "source": [
    "# importar la librería Requests que sirve para enviar consultas HTTP\n",
    "import requests \n",
    "  \n",
    "# api-endpoint \n",
    "endpoint = \"https://api.openaq.org/v1/measurements\"\n",
    "parameters = \"?country=CL&city=Valdivia&include_fields=&limit=1000&date_from=2018-10-28&date_to=2018-10-30\"\n",
    "URL = endpoint+parameters\n",
    "\n",
    "r = requests.get(url = URL) \n",
    "  \n",
    "# extracting data in json format \n",
    "data = r.json() \n",
    "  \n",
    "print(data)"
   ]
  },
  {
   "cell_type": "markdown",
   "metadata": {},
   "source": [
    "El código anterior devuelve un solo objeto JSON bruto, en el cual se encuentra un campo <i>results</i>. El valor del campo <i>results</i> es un arreglo de objetos JSON que corresponden a medidas de la contaminación en Valdivia en distintas fechas."
   ]
  },
  {
   "cell_type": "markdown",
   "metadata": {},
   "source": [
    "Para acceder a valores particulares del JSON, la sintáxis es simple. Por ejemplo, si queremos ver el contenido del campo <i>meta</i>:"
   ]
  },
  {
   "cell_type": "code",
   "execution_count": 4,
   "metadata": {},
   "outputs": [
    {
     "data": {
      "text/plain": [
       "{'name': 'openaq-api',\n",
       " 'license': 'CC BY 4.0',\n",
       " 'website': 'https://docs.openaq.org/',\n",
       " 'page': 1,\n",
       " 'limit': 1000,\n",
       " 'found': 159}"
      ]
     },
     "execution_count": 4,
     "metadata": {},
     "output_type": "execute_result"
    }
   ],
   "source": [
    "data[\"meta\"]"
   ]
  },
  {
   "cell_type": "markdown",
   "metadata": {},
   "source": [
    "Observen cómo navegar en los distintos elementos del objeto JSON:"
   ]
  },
  {
   "cell_type": "code",
   "execution_count": 5,
   "metadata": {},
   "outputs": [
    {
     "data": {
      "text/plain": [
       "'CC BY 4.0'"
      ]
     },
     "execution_count": 5,
     "metadata": {},
     "output_type": "execute_result"
    }
   ],
   "source": [
    "data[\"meta\"][\"license\"]"
   ]
  },
  {
   "cell_type": "code",
   "execution_count": 6,
   "metadata": {},
   "outputs": [
    {
     "data": {
      "text/plain": [
       "{'location': 'Valdivia',\n",
       " 'parameter': 'co',\n",
       " 'date': {'utc': '2018-10-30T00:00:00.000Z',\n",
       "  'local': '2018-10-29T21:00:00-03:00'},\n",
       " 'value': 565.81,\n",
       " 'unit': 'µg/m³',\n",
       " 'coordinates': {'latitude': -39.831316104673, 'longitude': -73.22851282209},\n",
       " 'country': 'CL',\n",
       " 'city': 'Valdivia'}"
      ]
     },
     "execution_count": 6,
     "metadata": {},
     "output_type": "execute_result"
    }
   ],
   "source": [
    "data[\"results\"][1]"
   ]
  },
  {
   "cell_type": "code",
   "execution_count": 7,
   "metadata": {},
   "outputs": [
    {
     "data": {
      "text/plain": [
       "-39.831316104673"
      ]
     },
     "execution_count": 7,
     "metadata": {},
     "output_type": "execute_result"
    }
   ],
   "source": [
    "data[\"results\"][1][\"coordinates\"][\"latitude\"]"
   ]
  },
  {
   "cell_type": "markdown",
   "metadata": {},
   "source": [
    "En Python, la librería <a href=\"https://pandas.pydata.org/\">Pandas</a> permite facilitar la manipulación de datos. A continuación, mostramos cómo cargar los datos de la API en una tabla (un \"DataFrame\" en la terminología de Pandas)."
   ]
  },
  {
   "cell_type": "code",
   "execution_count": 50,
   "metadata": {},
   "outputs": [
    {
     "data": {
      "text/html": [
       "<div>\n",
       "<style scoped>\n",
       "    .dataframe tbody tr th:only-of-type {\n",
       "        vertical-align: middle;\n",
       "    }\n",
       "\n",
       "    .dataframe tbody tr th {\n",
       "        vertical-align: top;\n",
       "    }\n",
       "\n",
       "    .dataframe thead th {\n",
       "        text-align: right;\n",
       "    }\n",
       "</style>\n",
       "<table border=\"1\" class=\"dataframe\">\n",
       "  <thead>\n",
       "    <tr style=\"text-align: right;\">\n",
       "      <th></th>\n",
       "      <th>city</th>\n",
       "      <th>count</th>\n",
       "      <th>country</th>\n",
       "      <th>locations</th>\n",
       "    </tr>\n",
       "  </thead>\n",
       "  <tbody>\n",
       "    <tr>\n",
       "      <th>0</th>\n",
       "      <td>Calama</td>\n",
       "      <td>213759</td>\n",
       "      <td>CL</td>\n",
       "      <td>4</td>\n",
       "    </tr>\n",
       "    <tr>\n",
       "      <th>1</th>\n",
       "      <td>Centro Quintero</td>\n",
       "      <td>40</td>\n",
       "      <td>CL</td>\n",
       "      <td>1</td>\n",
       "    </tr>\n",
       "    <tr>\n",
       "      <th>2</th>\n",
       "      <td>Tocopilla</td>\n",
       "      <td>214766</td>\n",
       "      <td>CL</td>\n",
       "      <td>5</td>\n",
       "    </tr>\n",
       "    <tr>\n",
       "      <th>3</th>\n",
       "      <td>Valdivia</td>\n",
       "      <td>72233</td>\n",
       "      <td>CL</td>\n",
       "      <td>1</td>\n",
       "    </tr>\n",
       "    <tr>\n",
       "      <th>4</th>\n",
       "      <td>Quintero</td>\n",
       "      <td>311434</td>\n",
       "      <td>CL</td>\n",
       "      <td>6</td>\n",
       "    </tr>\n",
       "    <tr>\n",
       "      <th>5</th>\n",
       "      <td>Punta Arenas</td>\n",
       "      <td>19966</td>\n",
       "      <td>CL</td>\n",
       "      <td>1</td>\n",
       "    </tr>\n",
       "    <tr>\n",
       "      <th>6</th>\n",
       "      <td>Progreso</td>\n",
       "      <td>51</td>\n",
       "      <td>CL</td>\n",
       "      <td>1</td>\n",
       "    </tr>\n",
       "    <tr>\n",
       "      <th>7</th>\n",
       "      <td>El Bosque</td>\n",
       "      <td>124021</td>\n",
       "      <td>CL</td>\n",
       "      <td>1</td>\n",
       "    </tr>\n",
       "    <tr>\n",
       "      <th>8</th>\n",
       "      <td>Huasco</td>\n",
       "      <td>38393</td>\n",
       "      <td>CL</td>\n",
       "      <td>10</td>\n",
       "    </tr>\n",
       "    <tr>\n",
       "      <th>9</th>\n",
       "      <td>Llayllay</td>\n",
       "      <td>11497</td>\n",
       "      <td>CL</td>\n",
       "      <td>1</td>\n",
       "    </tr>\n",
       "  </tbody>\n",
       "</table>\n",
       "</div>"
      ],
      "text/plain": [
       "              city   count country  locations\n",
       "0           Calama  213759      CL          4\n",
       "1  Centro Quintero      40      CL          1\n",
       "2        Tocopilla  214766      CL          5\n",
       "3         Valdivia   72233      CL          1\n",
       "4         Quintero  311434      CL          6\n",
       "5     Punta Arenas   19966      CL          1\n",
       "6         Progreso      51      CL          1\n",
       "7        El Bosque  124021      CL          1\n",
       "8           Huasco   38393      CL         10\n",
       "9         Llayllay   11497      CL          1"
      ]
     },
     "execution_count": 50,
     "metadata": {},
     "output_type": "execute_result"
    }
   ],
   "source": [
    "import pandas as pd\n",
    "\n",
    "valdivia_df = pd.DataFrame(data['results'])\n",
    "#Mostramos los 10 primeros resultados\n",
    "valdivia_df[0:10] #equivalente a: valdivia_df.head(10)"
   ]
  },
  {
   "cell_type": "markdown",
   "metadata": {},
   "source": [
    "Las columnas <code>coordinates</code> y <code>date</code> contienen valor de tipo objeto JSON. Para evitar tener problema a continuación con estos valores, normalizamos el dataframe:"
   ]
  },
  {
   "cell_type": "code",
   "execution_count": 9,
   "metadata": {},
   "outputs": [
    {
     "data": {
      "text/html": [
       "<div>\n",
       "<style scoped>\n",
       "    .dataframe tbody tr th:only-of-type {\n",
       "        vertical-align: middle;\n",
       "    }\n",
       "\n",
       "    .dataframe tbody tr th {\n",
       "        vertical-align: top;\n",
       "    }\n",
       "\n",
       "    .dataframe thead th {\n",
       "        text-align: right;\n",
       "    }\n",
       "</style>\n",
       "<table border=\"1\" class=\"dataframe\">\n",
       "  <thead>\n",
       "    <tr style=\"text-align: right;\">\n",
       "      <th></th>\n",
       "      <th>city</th>\n",
       "      <th>coordinates.latitude</th>\n",
       "      <th>coordinates.longitude</th>\n",
       "      <th>country</th>\n",
       "      <th>date.local</th>\n",
       "      <th>date.utc</th>\n",
       "      <th>location</th>\n",
       "      <th>parameter</th>\n",
       "      <th>unit</th>\n",
       "      <th>value</th>\n",
       "    </tr>\n",
       "  </thead>\n",
       "  <tbody>\n",
       "    <tr>\n",
       "      <th>0</th>\n",
       "      <td>Valdivia</td>\n",
       "      <td>-39.831316</td>\n",
       "      <td>-73.228513</td>\n",
       "      <td>CL</td>\n",
       "      <td>2018-10-29T21:00:00-03:00</td>\n",
       "      <td>2018-10-30T00:00:00.000Z</td>\n",
       "      <td>Valdivia</td>\n",
       "      <td>pm25</td>\n",
       "      <td>µg/m³</td>\n",
       "      <td>21.00</td>\n",
       "    </tr>\n",
       "    <tr>\n",
       "      <th>1</th>\n",
       "      <td>Valdivia</td>\n",
       "      <td>-39.831316</td>\n",
       "      <td>-73.228513</td>\n",
       "      <td>CL</td>\n",
       "      <td>2018-10-29T21:00:00-03:00</td>\n",
       "      <td>2018-10-30T00:00:00.000Z</td>\n",
       "      <td>Valdivia</td>\n",
       "      <td>co</td>\n",
       "      <td>µg/m³</td>\n",
       "      <td>565.81</td>\n",
       "    </tr>\n",
       "    <tr>\n",
       "      <th>2</th>\n",
       "      <td>Valdivia</td>\n",
       "      <td>-39.831316</td>\n",
       "      <td>-73.228513</td>\n",
       "      <td>CL</td>\n",
       "      <td>2018-10-29T21:00:00-03:00</td>\n",
       "      <td>2018-10-30T00:00:00.000Z</td>\n",
       "      <td>Valdivia</td>\n",
       "      <td>so2</td>\n",
       "      <td>µg/m³</td>\n",
       "      <td>2.71</td>\n",
       "    </tr>\n",
       "    <tr>\n",
       "      <th>3</th>\n",
       "      <td>Valdivia</td>\n",
       "      <td>-39.831316</td>\n",
       "      <td>-73.228513</td>\n",
       "      <td>CL</td>\n",
       "      <td>2018-10-29T21:00:00-03:00</td>\n",
       "      <td>2018-10-30T00:00:00.000Z</td>\n",
       "      <td>Valdivia</td>\n",
       "      <td>pm10</td>\n",
       "      <td>µg/m³</td>\n",
       "      <td>43.00</td>\n",
       "    </tr>\n",
       "    <tr>\n",
       "      <th>4</th>\n",
       "      <td>Valdivia</td>\n",
       "      <td>-39.831316</td>\n",
       "      <td>-73.228513</td>\n",
       "      <td>CL</td>\n",
       "      <td>2018-10-29T20:00:00-03:00</td>\n",
       "      <td>2018-10-29T23:00:00.000Z</td>\n",
       "      <td>Valdivia</td>\n",
       "      <td>pm25</td>\n",
       "      <td>µg/m³</td>\n",
       "      <td>15.00</td>\n",
       "    </tr>\n",
       "    <tr>\n",
       "      <th>5</th>\n",
       "      <td>Valdivia</td>\n",
       "      <td>-39.831316</td>\n",
       "      <td>-73.228513</td>\n",
       "      <td>CL</td>\n",
       "      <td>2018-10-29T20:00:00-03:00</td>\n",
       "      <td>2018-10-29T23:00:00.000Z</td>\n",
       "      <td>Valdivia</td>\n",
       "      <td>pm10</td>\n",
       "      <td>µg/m³</td>\n",
       "      <td>25.00</td>\n",
       "    </tr>\n",
       "    <tr>\n",
       "      <th>6</th>\n",
       "      <td>Valdivia</td>\n",
       "      <td>-39.831316</td>\n",
       "      <td>-73.228513</td>\n",
       "      <td>CL</td>\n",
       "      <td>2018-10-29T20:00:00-03:00</td>\n",
       "      <td>2018-10-29T23:00:00.000Z</td>\n",
       "      <td>Valdivia</td>\n",
       "      <td>so2</td>\n",
       "      <td>µg/m³</td>\n",
       "      <td>2.59</td>\n",
       "    </tr>\n",
       "    <tr>\n",
       "      <th>7</th>\n",
       "      <td>Valdivia</td>\n",
       "      <td>-39.831316</td>\n",
       "      <td>-73.228513</td>\n",
       "      <td>CL</td>\n",
       "      <td>2018-10-29T20:00:00-03:00</td>\n",
       "      <td>2018-10-29T23:00:00.000Z</td>\n",
       "      <td>Valdivia</td>\n",
       "      <td>co</td>\n",
       "      <td>µg/m³</td>\n",
       "      <td>305.49</td>\n",
       "    </tr>\n",
       "    <tr>\n",
       "      <th>8</th>\n",
       "      <td>Valdivia</td>\n",
       "      <td>-39.831316</td>\n",
       "      <td>-73.228513</td>\n",
       "      <td>CL</td>\n",
       "      <td>2018-10-29T19:00:00-03:00</td>\n",
       "      <td>2018-10-29T22:00:00.000Z</td>\n",
       "      <td>Valdivia</td>\n",
       "      <td>pm10</td>\n",
       "      <td>µg/m³</td>\n",
       "      <td>21.00</td>\n",
       "    </tr>\n",
       "    <tr>\n",
       "      <th>9</th>\n",
       "      <td>Valdivia</td>\n",
       "      <td>-39.831316</td>\n",
       "      <td>-73.228513</td>\n",
       "      <td>CL</td>\n",
       "      <td>2018-10-29T19:00:00-03:00</td>\n",
       "      <td>2018-10-29T22:00:00.000Z</td>\n",
       "      <td>Valdivia</td>\n",
       "      <td>so2</td>\n",
       "      <td>µg/m³</td>\n",
       "      <td>2.47</td>\n",
       "    </tr>\n",
       "  </tbody>\n",
       "</table>\n",
       "</div>"
      ],
      "text/plain": [
       "       city  coordinates.latitude  coordinates.longitude country  \\\n",
       "0  Valdivia            -39.831316             -73.228513      CL   \n",
       "1  Valdivia            -39.831316             -73.228513      CL   \n",
       "2  Valdivia            -39.831316             -73.228513      CL   \n",
       "3  Valdivia            -39.831316             -73.228513      CL   \n",
       "4  Valdivia            -39.831316             -73.228513      CL   \n",
       "5  Valdivia            -39.831316             -73.228513      CL   \n",
       "6  Valdivia            -39.831316             -73.228513      CL   \n",
       "7  Valdivia            -39.831316             -73.228513      CL   \n",
       "8  Valdivia            -39.831316             -73.228513      CL   \n",
       "9  Valdivia            -39.831316             -73.228513      CL   \n",
       "\n",
       "                  date.local                  date.utc  location parameter  \\\n",
       "0  2018-10-29T21:00:00-03:00  2018-10-30T00:00:00.000Z  Valdivia      pm25   \n",
       "1  2018-10-29T21:00:00-03:00  2018-10-30T00:00:00.000Z  Valdivia        co   \n",
       "2  2018-10-29T21:00:00-03:00  2018-10-30T00:00:00.000Z  Valdivia       so2   \n",
       "3  2018-10-29T21:00:00-03:00  2018-10-30T00:00:00.000Z  Valdivia      pm10   \n",
       "4  2018-10-29T20:00:00-03:00  2018-10-29T23:00:00.000Z  Valdivia      pm25   \n",
       "5  2018-10-29T20:00:00-03:00  2018-10-29T23:00:00.000Z  Valdivia      pm10   \n",
       "6  2018-10-29T20:00:00-03:00  2018-10-29T23:00:00.000Z  Valdivia       so2   \n",
       "7  2018-10-29T20:00:00-03:00  2018-10-29T23:00:00.000Z  Valdivia        co   \n",
       "8  2018-10-29T19:00:00-03:00  2018-10-29T22:00:00.000Z  Valdivia      pm10   \n",
       "9  2018-10-29T19:00:00-03:00  2018-10-29T22:00:00.000Z  Valdivia       so2   \n",
       "\n",
       "    unit   value  \n",
       "0  µg/m³   21.00  \n",
       "1  µg/m³  565.81  \n",
       "2  µg/m³    2.71  \n",
       "3  µg/m³   43.00  \n",
       "4  µg/m³   15.00  \n",
       "5  µg/m³   25.00  \n",
       "6  µg/m³    2.59  \n",
       "7  µg/m³  305.49  \n",
       "8  µg/m³   21.00  \n",
       "9  µg/m³    2.47  "
      ]
     },
     "execution_count": 9,
     "metadata": {},
     "output_type": "execute_result"
    }
   ],
   "source": [
    "#Fase de normalización que permite transformar un objeto JSON en columnas\n",
    "from pandas.io.json import json_normalize\n",
    "data_normalized=json_normalize(data['results'])\n",
    "\n",
    "valdivia_df = pd.DataFrame(data_normalized)\n",
    "#Mostramos los 10 primeros resultados\n",
    "valdivia_df.head(10)"
   ]
  },
  {
   "cell_type": "markdown",
   "metadata": {},
   "source": [
    "Como la clausula \"SELECT\" en SQL, Pandas permite selectionnar las columnas que se quiere mostrar:"
   ]
  },
  {
   "cell_type": "code",
   "execution_count": 10,
   "metadata": {},
   "outputs": [
    {
     "data": {
      "text/html": [
       "<div>\n",
       "<style scoped>\n",
       "    .dataframe tbody tr th:only-of-type {\n",
       "        vertical-align: middle;\n",
       "    }\n",
       "\n",
       "    .dataframe tbody tr th {\n",
       "        vertical-align: top;\n",
       "    }\n",
       "\n",
       "    .dataframe thead th {\n",
       "        text-align: right;\n",
       "    }\n",
       "</style>\n",
       "<table border=\"1\" class=\"dataframe\">\n",
       "  <thead>\n",
       "    <tr style=\"text-align: right;\">\n",
       "      <th></th>\n",
       "      <th>city</th>\n",
       "      <th>country</th>\n",
       "      <th>date</th>\n",
       "      <th>parameter</th>\n",
       "      <th>value</th>\n",
       "    </tr>\n",
       "  </thead>\n",
       "  <tbody>\n",
       "    <tr>\n",
       "      <th>0</th>\n",
       "      <td>Valdivia</td>\n",
       "      <td>CL</td>\n",
       "      <td>2018-10-29T21:00:00-03:00</td>\n",
       "      <td>pm25</td>\n",
       "      <td>21.00</td>\n",
       "    </tr>\n",
       "    <tr>\n",
       "      <th>1</th>\n",
       "      <td>Valdivia</td>\n",
       "      <td>CL</td>\n",
       "      <td>2018-10-29T21:00:00-03:00</td>\n",
       "      <td>co</td>\n",
       "      <td>565.81</td>\n",
       "    </tr>\n",
       "    <tr>\n",
       "      <th>2</th>\n",
       "      <td>Valdivia</td>\n",
       "      <td>CL</td>\n",
       "      <td>2018-10-29T21:00:00-03:00</td>\n",
       "      <td>so2</td>\n",
       "      <td>2.71</td>\n",
       "    </tr>\n",
       "    <tr>\n",
       "      <th>3</th>\n",
       "      <td>Valdivia</td>\n",
       "      <td>CL</td>\n",
       "      <td>2018-10-29T21:00:00-03:00</td>\n",
       "      <td>pm10</td>\n",
       "      <td>43.00</td>\n",
       "    </tr>\n",
       "    <tr>\n",
       "      <th>4</th>\n",
       "      <td>Valdivia</td>\n",
       "      <td>CL</td>\n",
       "      <td>2018-10-29T20:00:00-03:00</td>\n",
       "      <td>pm25</td>\n",
       "      <td>15.00</td>\n",
       "    </tr>\n",
       "    <tr>\n",
       "      <th>5</th>\n",
       "      <td>Valdivia</td>\n",
       "      <td>CL</td>\n",
       "      <td>2018-10-29T20:00:00-03:00</td>\n",
       "      <td>pm10</td>\n",
       "      <td>25.00</td>\n",
       "    </tr>\n",
       "    <tr>\n",
       "      <th>6</th>\n",
       "      <td>Valdivia</td>\n",
       "      <td>CL</td>\n",
       "      <td>2018-10-29T20:00:00-03:00</td>\n",
       "      <td>so2</td>\n",
       "      <td>2.59</td>\n",
       "    </tr>\n",
       "    <tr>\n",
       "      <th>7</th>\n",
       "      <td>Valdivia</td>\n",
       "      <td>CL</td>\n",
       "      <td>2018-10-29T20:00:00-03:00</td>\n",
       "      <td>co</td>\n",
       "      <td>305.49</td>\n",
       "    </tr>\n",
       "    <tr>\n",
       "      <th>8</th>\n",
       "      <td>Valdivia</td>\n",
       "      <td>CL</td>\n",
       "      <td>2018-10-29T19:00:00-03:00</td>\n",
       "      <td>pm10</td>\n",
       "      <td>21.00</td>\n",
       "    </tr>\n",
       "    <tr>\n",
       "      <th>9</th>\n",
       "      <td>Valdivia</td>\n",
       "      <td>CL</td>\n",
       "      <td>2018-10-29T19:00:00-03:00</td>\n",
       "      <td>so2</td>\n",
       "      <td>2.47</td>\n",
       "    </tr>\n",
       "  </tbody>\n",
       "</table>\n",
       "</div>"
      ],
      "text/plain": [
       "       city country                       date parameter   value\n",
       "0  Valdivia      CL  2018-10-29T21:00:00-03:00      pm25   21.00\n",
       "1  Valdivia      CL  2018-10-29T21:00:00-03:00        co  565.81\n",
       "2  Valdivia      CL  2018-10-29T21:00:00-03:00       so2    2.71\n",
       "3  Valdivia      CL  2018-10-29T21:00:00-03:00      pm10   43.00\n",
       "4  Valdivia      CL  2018-10-29T20:00:00-03:00      pm25   15.00\n",
       "5  Valdivia      CL  2018-10-29T20:00:00-03:00      pm10   25.00\n",
       "6  Valdivia      CL  2018-10-29T20:00:00-03:00       so2    2.59\n",
       "7  Valdivia      CL  2018-10-29T20:00:00-03:00        co  305.49\n",
       "8  Valdivia      CL  2018-10-29T19:00:00-03:00      pm10   21.00\n",
       "9  Valdivia      CL  2018-10-29T19:00:00-03:00       so2    2.47"
      ]
     },
     "execution_count": 10,
     "metadata": {},
     "output_type": "execute_result"
    }
   ],
   "source": [
    "valdivia_df2=valdivia_df[['city','country','date.local','parameter','value']]\n",
    "#Renombrar la columna \"date.local\" para simplificar\n",
    "valdivia_df2 = valdivia_df2.rename(columns={'date.local': 'date'})\n",
    "valdivia_df2.head(10)"
   ]
  },
  {
   "cell_type": "markdown",
   "metadata": {},
   "source": [
    "Como en SQL, Pandas permite ordenar los resultados (el método <code>sort_values</code> es equivalente al <code>order by</code> en SQL). En nuestro ejemplo, queremos ordenar el resultado según la fecha."
   ]
  },
  {
   "cell_type": "code",
   "execution_count": 11,
   "metadata": {},
   "outputs": [
    {
     "data": {
      "text/html": [
       "<div>\n",
       "<style scoped>\n",
       "    .dataframe tbody tr th:only-of-type {\n",
       "        vertical-align: middle;\n",
       "    }\n",
       "\n",
       "    .dataframe tbody tr th {\n",
       "        vertical-align: top;\n",
       "    }\n",
       "\n",
       "    .dataframe thead th {\n",
       "        text-align: right;\n",
       "    }\n",
       "</style>\n",
       "<table border=\"1\" class=\"dataframe\">\n",
       "  <thead>\n",
       "    <tr style=\"text-align: right;\">\n",
       "      <th></th>\n",
       "      <th>city</th>\n",
       "      <th>country</th>\n",
       "      <th>date</th>\n",
       "      <th>parameter</th>\n",
       "      <th>value</th>\n",
       "    </tr>\n",
       "  </thead>\n",
       "  <tbody>\n",
       "    <tr>\n",
       "      <th>158</th>\n",
       "      <td>Valdivia</td>\n",
       "      <td>CL</td>\n",
       "      <td>2018-10-27T21:00:00-03:00</td>\n",
       "      <td>pm10</td>\n",
       "      <td>17.00</td>\n",
       "    </tr>\n",
       "    <tr>\n",
       "      <th>154</th>\n",
       "      <td>Valdivia</td>\n",
       "      <td>CL</td>\n",
       "      <td>2018-10-27T22:00:00-03:00</td>\n",
       "      <td>co</td>\n",
       "      <td>223.51</td>\n",
       "    </tr>\n",
       "    <tr>\n",
       "      <th>157</th>\n",
       "      <td>Valdivia</td>\n",
       "      <td>CL</td>\n",
       "      <td>2018-10-27T22:00:00-03:00</td>\n",
       "      <td>so2</td>\n",
       "      <td>2.12</td>\n",
       "    </tr>\n",
       "    <tr>\n",
       "      <th>156</th>\n",
       "      <td>Valdivia</td>\n",
       "      <td>CL</td>\n",
       "      <td>2018-10-27T22:00:00-03:00</td>\n",
       "      <td>pm25</td>\n",
       "      <td>11.00</td>\n",
       "    </tr>\n",
       "    <tr>\n",
       "      <th>155</th>\n",
       "      <td>Valdivia</td>\n",
       "      <td>CL</td>\n",
       "      <td>2018-10-27T22:00:00-03:00</td>\n",
       "      <td>pm10</td>\n",
       "      <td>19.00</td>\n",
       "    </tr>\n",
       "    <tr>\n",
       "      <th>152</th>\n",
       "      <td>Valdivia</td>\n",
       "      <td>CL</td>\n",
       "      <td>2018-10-27T23:00:00-03:00</td>\n",
       "      <td>so2</td>\n",
       "      <td>2.09</td>\n",
       "    </tr>\n",
       "    <tr>\n",
       "      <th>151</th>\n",
       "      <td>Valdivia</td>\n",
       "      <td>CL</td>\n",
       "      <td>2018-10-27T23:00:00-03:00</td>\n",
       "      <td>co</td>\n",
       "      <td>165.49</td>\n",
       "    </tr>\n",
       "    <tr>\n",
       "      <th>153</th>\n",
       "      <td>Valdivia</td>\n",
       "      <td>CL</td>\n",
       "      <td>2018-10-27T23:00:00-03:00</td>\n",
       "      <td>pm25</td>\n",
       "      <td>17.00</td>\n",
       "    </tr>\n",
       "    <tr>\n",
       "      <th>150</th>\n",
       "      <td>Valdivia</td>\n",
       "      <td>CL</td>\n",
       "      <td>2018-10-28T00:00:00-03:00</td>\n",
       "      <td>so2</td>\n",
       "      <td>2.09</td>\n",
       "    </tr>\n",
       "    <tr>\n",
       "      <th>149</th>\n",
       "      <td>Valdivia</td>\n",
       "      <td>CL</td>\n",
       "      <td>2018-10-28T04:00:00-03:00</td>\n",
       "      <td>pm10</td>\n",
       "      <td>7.00</td>\n",
       "    </tr>\n",
       "  </tbody>\n",
       "</table>\n",
       "</div>"
      ],
      "text/plain": [
       "         city country                       date parameter   value\n",
       "158  Valdivia      CL  2018-10-27T21:00:00-03:00      pm10   17.00\n",
       "154  Valdivia      CL  2018-10-27T22:00:00-03:00        co  223.51\n",
       "157  Valdivia      CL  2018-10-27T22:00:00-03:00       so2    2.12\n",
       "156  Valdivia      CL  2018-10-27T22:00:00-03:00      pm25   11.00\n",
       "155  Valdivia      CL  2018-10-27T22:00:00-03:00      pm10   19.00\n",
       "152  Valdivia      CL  2018-10-27T23:00:00-03:00       so2    2.09\n",
       "151  Valdivia      CL  2018-10-27T23:00:00-03:00        co  165.49\n",
       "153  Valdivia      CL  2018-10-27T23:00:00-03:00      pm25   17.00\n",
       "150  Valdivia      CL  2018-10-28T00:00:00-03:00       so2    2.09\n",
       "149  Valdivia      CL  2018-10-28T04:00:00-03:00      pm10    7.00"
      ]
     },
     "execution_count": 11,
     "metadata": {},
     "output_type": "execute_result"
    }
   ],
   "source": [
    "valdivia_df2.sort_values(['date'],ascending=True).head(10)"
   ]
  },
  {
   "cell_type": "markdown",
   "metadata": {},
   "source": [
    "La API devuelve varias medidas cada hora, por un tema de simplicidad, vamos a generalizar los datos para tener solamente 1 valor por hora y por tipo de particulas. Como en SQL, Pandas tiene un método para agrupar valores. En nuestro ejemplo, agrupamos según el tipo de particula (<code>parameter</code>) y la fecha (<code>date</code>), y conservarmos el promedio de las medidas."
   ]
  },
  {
   "cell_type": "code",
   "execution_count": 13,
   "metadata": {},
   "outputs": [
    {
     "data": {
      "text/html": [
       "<div>\n",
       "<style scoped>\n",
       "    .dataframe tbody tr th:only-of-type {\n",
       "        vertical-align: middle;\n",
       "    }\n",
       "\n",
       "    .dataframe tbody tr th {\n",
       "        vertical-align: top;\n",
       "    }\n",
       "\n",
       "    .dataframe thead th {\n",
       "        text-align: right;\n",
       "    }\n",
       "</style>\n",
       "<table border=\"1\" class=\"dataframe\">\n",
       "  <thead>\n",
       "    <tr style=\"text-align: right;\">\n",
       "      <th></th>\n",
       "      <th>parameter</th>\n",
       "      <th>date</th>\n",
       "      <th>value</th>\n",
       "    </tr>\n",
       "  </thead>\n",
       "  <tbody>\n",
       "    <tr>\n",
       "      <th>0</th>\n",
       "      <td>co</td>\n",
       "      <td>2018-10-27T22:00:00-03:00</td>\n",
       "      <td>223.51</td>\n",
       "    </tr>\n",
       "    <tr>\n",
       "      <th>1</th>\n",
       "      <td>co</td>\n",
       "      <td>2018-10-27T23:00:00-03:00</td>\n",
       "      <td>165.49</td>\n",
       "    </tr>\n",
       "    <tr>\n",
       "      <th>2</th>\n",
       "      <td>co</td>\n",
       "      <td>2018-10-28T06:00:00-03:00</td>\n",
       "      <td>266.43</td>\n",
       "    </tr>\n",
       "    <tr>\n",
       "      <th>3</th>\n",
       "      <td>co</td>\n",
       "      <td>2018-10-28T08:00:00-03:00</td>\n",
       "      <td>46.41</td>\n",
       "    </tr>\n",
       "    <tr>\n",
       "      <th>4</th>\n",
       "      <td>co</td>\n",
       "      <td>2018-10-28T09:00:00-03:00</td>\n",
       "      <td>59.70</td>\n",
       "    </tr>\n",
       "    <tr>\n",
       "      <th>5</th>\n",
       "      <td>co</td>\n",
       "      <td>2018-10-28T10:00:00-03:00</td>\n",
       "      <td>59.97</td>\n",
       "    </tr>\n",
       "    <tr>\n",
       "      <th>6</th>\n",
       "      <td>co</td>\n",
       "      <td>2018-10-28T11:00:00-03:00</td>\n",
       "      <td>27.39</td>\n",
       "    </tr>\n",
       "    <tr>\n",
       "      <th>7</th>\n",
       "      <td>co</td>\n",
       "      <td>2018-10-28T12:00:00-03:00</td>\n",
       "      <td>55.07</td>\n",
       "    </tr>\n",
       "    <tr>\n",
       "      <th>8</th>\n",
       "      <td>co</td>\n",
       "      <td>2018-10-28T14:00:00-03:00</td>\n",
       "      <td>141.14</td>\n",
       "    </tr>\n",
       "    <tr>\n",
       "      <th>9</th>\n",
       "      <td>co</td>\n",
       "      <td>2018-10-28T15:00:00-03:00</td>\n",
       "      <td>55.58</td>\n",
       "    </tr>\n",
       "  </tbody>\n",
       "</table>\n",
       "</div>"
      ],
      "text/plain": [
       "  parameter                       date   value\n",
       "0        co  2018-10-27T22:00:00-03:00  223.51\n",
       "1        co  2018-10-27T23:00:00-03:00  165.49\n",
       "2        co  2018-10-28T06:00:00-03:00  266.43\n",
       "3        co  2018-10-28T08:00:00-03:00   46.41\n",
       "4        co  2018-10-28T09:00:00-03:00   59.70\n",
       "5        co  2018-10-28T10:00:00-03:00   59.97\n",
       "6        co  2018-10-28T11:00:00-03:00   27.39\n",
       "7        co  2018-10-28T12:00:00-03:00   55.07\n",
       "8        co  2018-10-28T14:00:00-03:00  141.14\n",
       "9        co  2018-10-28T15:00:00-03:00   55.58"
      ]
     },
     "execution_count": 13,
     "metadata": {},
     "output_type": "execute_result"
    }
   ],
   "source": [
    "import numpy as np\n",
    "\n",
    "valdivia_df3=valdivia_df2.groupby(['parameter','date']).agg(np.average)\n",
    "valdivia_df3=valdivia_df3.reset_index()\n",
    "valdivia_df3.head(10)"
   ]
  },
  {
   "cell_type": "markdown",
   "metadata": {},
   "source": [
    "Finalmente, Pandas tambien permite filtrar las filas de una tabla (equivalente del <code>WHERE</code> en SQL). En nuestro ejemplo, creamos 4 dataframes que contienen los datos por cada tipo de particula (co, pm10, pm25 y so2)."
   ]
  },
  {
   "cell_type": "code",
   "execution_count": 15,
   "metadata": {},
   "outputs": [
    {
     "data": {
      "text/html": [
       "<div>\n",
       "<style scoped>\n",
       "    .dataframe tbody tr th:only-of-type {\n",
       "        vertical-align: middle;\n",
       "    }\n",
       "\n",
       "    .dataframe tbody tr th {\n",
       "        vertical-align: top;\n",
       "    }\n",
       "\n",
       "    .dataframe thead th {\n",
       "        text-align: right;\n",
       "    }\n",
       "</style>\n",
       "<table border=\"1\" class=\"dataframe\">\n",
       "  <thead>\n",
       "    <tr style=\"text-align: right;\">\n",
       "      <th></th>\n",
       "      <th>parameter</th>\n",
       "      <th>date</th>\n",
       "      <th>value</th>\n",
       "    </tr>\n",
       "  </thead>\n",
       "  <tbody>\n",
       "    <tr>\n",
       "      <th>0</th>\n",
       "      <td>co</td>\n",
       "      <td>2018-10-27T22:00:00-03:00</td>\n",
       "      <td>223.51</td>\n",
       "    </tr>\n",
       "    <tr>\n",
       "      <th>1</th>\n",
       "      <td>co</td>\n",
       "      <td>2018-10-27T23:00:00-03:00</td>\n",
       "      <td>165.49</td>\n",
       "    </tr>\n",
       "    <tr>\n",
       "      <th>2</th>\n",
       "      <td>co</td>\n",
       "      <td>2018-10-28T06:00:00-03:00</td>\n",
       "      <td>266.43</td>\n",
       "    </tr>\n",
       "    <tr>\n",
       "      <th>3</th>\n",
       "      <td>co</td>\n",
       "      <td>2018-10-28T08:00:00-03:00</td>\n",
       "      <td>46.41</td>\n",
       "    </tr>\n",
       "    <tr>\n",
       "      <th>4</th>\n",
       "      <td>co</td>\n",
       "      <td>2018-10-28T09:00:00-03:00</td>\n",
       "      <td>59.70</td>\n",
       "    </tr>\n",
       "  </tbody>\n",
       "</table>\n",
       "</div>"
      ],
      "text/plain": [
       "  parameter                       date   value\n",
       "0        co  2018-10-27T22:00:00-03:00  223.51\n",
       "1        co  2018-10-27T23:00:00-03:00  165.49\n",
       "2        co  2018-10-28T06:00:00-03:00  266.43\n",
       "3        co  2018-10-28T08:00:00-03:00   46.41\n",
       "4        co  2018-10-28T09:00:00-03:00   59.70"
      ]
     },
     "execution_count": 15,
     "metadata": {},
     "output_type": "execute_result"
    }
   ],
   "source": [
    "valdivia_df_co=valdivia_df3[(valdivia_df3.parameter=='co')]\n",
    "valdivia_df_pm10=valdivia_df3[(valdivia_df3.parameter=='pm10')]\n",
    "valdivia_df_pm25=valdivia_df3[(valdivia_df3.parameter=='pm25')]\n",
    "valdivia_df_so2=valdivia_df3[(valdivia_df3.parameter=='so2')]\n",
    "valdivia_df_co.head()"
   ]
  },
  {
   "cell_type": "markdown",
   "metadata": {},
   "source": [
    "Para más detalles sobre la API de Pandas, se puede consultar:\n",
    "\n",
    "- <a href=\"https://www.dataquest.io/blog/pandas-cheat-sheet/\">Pandas cheat sheet</a>\n",
    "\n",
    "- <a href=\"https://pandas.pydata.org/pandas-docs/stable/\">Documentación de Pandas</a>"
   ]
  },
  {
   "cell_type": "markdown",
   "metadata": {},
   "source": [
    "Una vez que tenemos nuestros datos listos (o \"preprocesados\"), a menudo se necesita visualizar estos datos de alguna manera. En Python, existen varias librerías de visualización de datos, entre las cuales las más utilizadas son: MatplotLib, Plotly o Geoplotlib. Ejemplo de visualización realizada con Geoplotlib.\n",
    "\n",
    "<img src=\"geoplotlib.png\"></img>\n",
    "\n",
    "\n"
   ]
  },
  {
   "cell_type": "markdown",
   "metadata": {},
   "source": [
    "Como primer enfoque, a continuación vamos simplemente visualizar un Line Chart mostrando la evolución de la cantidad de CO en Valdivia el día 28 de octubre:"
   ]
  },
  {
   "cell_type": "code",
   "execution_count": 16,
   "metadata": {},
   "outputs": [
    {
     "data": {
      "text/plain": [
       "[<matplotlib.lines.Line2D at 0x7fab31500c88>]"
      ]
     },
     "execution_count": 16,
     "metadata": {},
     "output_type": "execute_result"
    },
    {
     "data": {
      "image/png": "[encoded data removed]",
      "text/plain": [
       "<Figure size 1080x432 with 1 Axes>"
      ]
     },
     "metadata": {},
     "output_type": "display_data"
    }
   ],
   "source": [
    "import matplotlib.pyplot as plt\n",
    "\n",
    "#Definición del tamaño de la figura\n",
    "plt.figure(figsize=(15,6))\n",
    "\n",
    "#Definición de los datos que sirven de eje X e Y\n",
    "x_co = valdivia_df_co['date']\n",
    "y_co = valdivia_df_co['value']\n",
    "\n",
    "#Leyenda\n",
    "plt.xlabel('Date')\n",
    "plt.ylabel('Cantidad de CO')\n",
    "plt.title('Cantidad de CO en Valdivia el día 28 de octubre')\n",
    "plt.xticks(rotation=90)\n",
    "\n",
    "#Dibujar la visualización\n",
    "plt.plot(x_co,y_co)"
   ]
  },
  {
   "cell_type": "markdown",
   "metadata": {},
   "source": [
    "<b>Ejercicio:</b>\n",
    "\n",
    "- Conectarse a la API OpenAQ para saber cuáles los lugares en Chile dónde se recopila medidas de contaminación.\n",
    "\n",
    "- Crear una visualización: Por ejemplo, mostrar en un histograma, cuántas mediciones hay por cada lugar en Chile.\n",
    "\n",
    "- Opcional: Mostrar en un mapa de Chile, los lugares dónde se recopila medidades de contaminación."
   ]
  },
  {
   "cell_type": "code",
   "execution_count": 58,
   "metadata": {},
   "outputs": [
    {
     "name": "stdout",
     "output_type": "stream",
     "text": [
      "Total Ciudades: 140\n"
     ]
    },
    {
     "data": {
      "text/plain": [
       "[<matplotlib.lines.Line2D at 0x7fe7c4940780>]"
      ]
     },
     "execution_count": 58,
     "metadata": {},
     "output_type": "execute_result"
    },
    {
     "data": {
      "image/png": "[encoded data removed]",
      "text/plain": [
       "<Figure size 1080x432 with 1 Axes>"
      ]
     },
     "metadata": {
      "needs_background": "light"
     },
     "output_type": "display_data"
    }
   ],
   "source": [
    "# importar la librería Requests que sirve para enviar consultas HTTP\n",
    "import requests\n",
    "import pandas as pd\n",
    "import numpy as np\n",
    "import matplotlib.pyplot as plt\n",
    "  \n",
    "# api-endpoint \n",
    "endpoint = \"https://api.openaq.org/v1/cities\"\n",
    "parameters = \"?country=CL&limit=1000\"\n",
    "URL = endpoint+parameters\n",
    "\n",
    "r = requests.get(url = URL) \n",
    "  \n",
    "# extracting data in json format \n",
    "data = r.json() \n",
    "\n",
    "print(\"Total Ciudades en Chile: \" , data[\"meta\"][\"found\"])\n",
    "\n",
    "#Definicion\n",
    "valdivia_df = pd.DataFrame(data['results'])\n",
    "#Definición del tamaño de la figura\n",
    "plt.figure(figsize=(15,6))\n",
    "\n",
    "#Definición de los datos que sirven de eje X e Y\n",
    "x_co = valdivia_df['city']\n",
    "y_co = valdivia_df['count']\n",
    "\n",
    "#Leyenda\n",
    "plt.xlabel('Ciudad')\n",
    "plt.ylabel('Cantidad de Mediciones')\n",
    "plt.title('Cantidad de Mediciones por ciudad de Chile')\n",
    "plt.xticks(rotation=90)\n",
    "\n",
    "#Dibujar la visualización\n",
    "plt.plot(x_co,y_co)"
   ]
  },
  {
   "cell_type": "markdown",
   "metadata": {},
   "source": [
    "# 2. Utilizar el SGBD no relacional Mongo "
   ]
  },
  {
   "cell_type": "markdown",
   "metadata": {},
   "source": [
    "MongoDB es un SGBD creado en 2009 (en 2018: version 4). Es un SGBD que no implementa el modelo Relacional (Tabla/Tupla/Claves, datos atómicos) como MySQL o PostgreSQL. La idea inicial de Mongo es ofrecer una solución simple para almacenar objetos JSON.\n",
    "\n",
    "En Mongo, los conceptos claves son:\n",
    "- los <b>Documentos</b>: un documento corresponde a objeto JSON.\n",
    "- las <b>Colecciones</b>: una colección es un conjunto de documentos. Nota Bene: en una colección Mongo, los documentos pueden tener una estructura distinta.\n",
    "\n",
    "En Mongo, no existen directamente los conceptos de Tabla, Tupla o Claves primerias/foraneas. Sin embargo, podemos ver una equivalencia entre Tabla y Colección, y entre Tupla y Documento."
   ]
  },
  {
   "cell_type": "markdown",
   "metadata": {},
   "source": [
    "Verificar que Mongo está instalado correctamente ejecutando:\n",
    "- el programa principal del SGBD: <code>mongod &</code> desde un terminal\n",
    "- el programa CLI (Command Line Interface): <code>mongo</code>\n",
    "\n",
    "Vamos a interactuar con Mongo desde un entorno Python, por lo tanto utilizaremos el driver <code>PyMongo</code> (que instalar).\n"
   ]
  },
  {
   "cell_type": "code",
   "execution_count": 7,
   "metadata": {},
   "outputs": [],
   "source": [
    "import pymongo\n",
    "from pymongo import MongoClient\n",
    "\n",
    "#Nos conectamos a la instancia de Mongo local, puerto 27017\n",
    "client = MongoClient('localhost', 27017)\n",
    "\n",
    "#Nos conectamos a la BD 'notebook5_db'\n",
    "db = client['notebook5_db']\n",
    "\n",
    "#Dentro de la BD, creamos una nueva colección llamada 'personas'\n",
    "collection = db['personas']"
   ]
  },
  {
   "cell_type": "markdown",
   "metadata": {},
   "source": [
    "A continuación, mostramos un ejemplo de como insertar nuevos documentos en una colección:"
   ]
  },
  {
   "cell_type": "code",
   "execution_count": 8,
   "metadata": {},
   "outputs": [
    {
     "data": {
      "text/plain": [
       "<pymongo.results.InsertManyResult at 0x7fe8009c8e88>"
      ]
     },
     "execution_count": 8,
     "metadata": {},
     "output_type": "execute_result"
    }
   ],
   "source": [
    "#Creamos un nuevo documento\n",
    "\n",
    "aDocument = {\"Nombre\":\"Juan\", \"Edad\":23, \"Asignaturas\":[\"INFO261\", \"INFO267\", \"INFO268\"] }\n",
    "otherDocument = {\"Nombre\":\"Maria\", \"Edad\":24, \"Asignaturas\":[\"INFO261\", \"INFO267\", \"INFO268\", \"INFO331\"] }\n",
    "\n",
    "collection.insert_many([aDocument,otherDocument])"
   ]
  },
  {
   "cell_type": "markdown",
   "metadata": {},
   "source": [
    "Un ejemplo de como consultar nuestra colección agregando un filtro para ver solamente los documentos que tienen un campo \"Edad\"=23."
   ]
  },
  {
   "cell_type": "code",
   "execution_count": 10,
   "metadata": {},
   "outputs": [
    {
     "name": "stdout",
     "output_type": "stream",
     "text": [
      "{'Asignaturas': ['INFO261', 'INFO267', 'INFO268'],\n",
      " 'Edad': 23,\n",
      " 'Nombre': 'Juan',\n",
      " '_id': ObjectId('5bd9b4fb74b1191be194c001')}\n"
     ]
    }
   ],
   "source": [
    "from pprint import pprint\n",
    "\n",
    "for doc in collection.find({\"Edad\":23}):\n",
    "    pprint(doc)"
   ]
  },
  {
   "cell_type": "markdown",
   "metadata": {},
   "source": [
    "Para más detalles sobre la API de Mongo y PyMongo para hacer consultas:\n",
    "- http://api.mongodb.com/python/current/tutorial.html\n",
    "- https://docs.mongodb.com/manual/crud/"
   ]
  },
  {
   "cell_type": "markdown",
   "metadata": {},
   "source": [
    "<b>Ejercicio</b>\n",
    "- crear/borrar/modificar documentos desde Mongo CLI y desde PyMongo \n",
    "- realizar algunas consultas básicas"
   ]
  },
  {
   "cell_type": "markdown",
   "metadata": {},
   "source": [
    "# 3. Trabajo práctico 1\n",
    "\n",
    "1. En el marco de un proyecto \"Smart City Valdivia\", se desea almacenar mediciones de particulas en el aire en Valdivia a partir de la API OpenAQ. Estos datos se cruzaron a posteriori con datos meteorologicos de Valdivia (por ejemplo desde la API https://openweathermap.org/api). Diseñar un modelo Entidad-Asociación que permita almacenar esta información y extenderla a otras ciudades del sur de Chile.\n",
    "\n",
    "2. Proponer un modelo de documentos JSON para almacenar está información en Mongo.\n",
    "\n",
    "3. Conectarse a la API OpenAQ para empezar a llenar su base de datos Mongo.\n",
    "\n",
    "\n",
    "# 4. Trabajo práctico 2\n",
    "\n",
    "1. Conectarse a la API de Twitter.\n",
    "\n",
    "2. Recopilar una lista de usuarios que utilizan el hashtag #ValdiviaCL en sus tweets.\n",
    "\n",
    "\n"
   ]
  },
  {
   "cell_type": "code",
   "execution_count": null,
   "metadata": {},
   "outputs": [],
   "source": []
  }
 ],
 "metadata": {
  "kernelspec": {
   "display_name": "Python 3",
   "language": "python",
   "name": "python3"
  },
  "language_info": {
   "codemirror_mode": {
    "name": "ipython",
    "version": 3
   },
   "file_extension": ".py",
   "mimetype": "text/x-python",
   "name": "python",
   "nbconvert_exporter": "python",
   "pygments_lexer": "ipython3",
   "version": "3.6.5"
  }
 },
 "nbformat": 4,
 "nbformat_minor": 2
}
